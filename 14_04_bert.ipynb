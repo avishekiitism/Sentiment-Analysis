{
 "cells": [
  {
   "cell_type": "code",
   "execution_count": 2,
   "metadata": {},
   "outputs": [
    {
     "name": "stdout",
     "output_type": "stream",
     "text": [
      "Requirement already satisfied: transformers in c:\\users\\avishek kumar\\appdata\\local\\programs\\python\\python39\\lib\\site-packages (4.35.0)\n",
      "Requirement already satisfied: filelock in c:\\users\\avishek kumar\\appdata\\local\\programs\\python\\python39\\lib\\site-packages (from transformers) (3.13.1)\n",
      "Requirement already satisfied: huggingface-hub<1.0,>=0.16.4 in c:\\users\\avishek kumar\\appdata\\local\\programs\\python\\python39\\lib\\site-packages (from transformers) (0.17.3)\n",
      "Requirement already satisfied: numpy>=1.17 in c:\\users\\avishek kumar\\appdata\\local\\programs\\python\\python39\\lib\\site-packages (from transformers) (1.23.0)\n",
      "Requirement already satisfied: packaging>=20.0 in c:\\users\\avishek kumar\\appdata\\local\\programs\\python\\python39\\lib\\site-packages (from transformers) (23.1)\n",
      "Requirement already satisfied: pyyaml>=5.1 in c:\\users\\avishek kumar\\appdata\\local\\programs\\python\\python39\\lib\\site-packages (from transformers) (6.0)\n",
      "Requirement already satisfied: regex!=2019.12.17 in c:\\users\\avishek kumar\\appdata\\local\\programs\\python\\python39\\lib\\site-packages (from transformers) (2023.6.3)\n",
      "Requirement already satisfied: requests in c:\\users\\avishek kumar\\appdata\\local\\programs\\python\\python39\\lib\\site-packages (from transformers) (2.28.1)\n",
      "Requirement already satisfied: tokenizers<0.15,>=0.14 in c:\\users\\avishek kumar\\appdata\\local\\programs\\python\\python39\\lib\\site-packages (from transformers) (0.14.1)\n",
      "Requirement already satisfied: safetensors>=0.3.1 in c:\\users\\avishek kumar\\appdata\\local\\programs\\python\\python39\\lib\\site-packages (from transformers) (0.4.0)\n",
      "Requirement already satisfied: tqdm>=4.27 in c:\\users\\avishek kumar\\appdata\\local\\programs\\python\\python39\\lib\\site-packages (from transformers) (4.65.0)\n",
      "Requirement already satisfied: fsspec in c:\\users\\avishek kumar\\appdata\\local\\programs\\python\\python39\\lib\\site-packages (from huggingface-hub<1.0,>=0.16.4->transformers) (2023.10.0)\n",
      "Requirement already satisfied: typing-extensions>=3.7.4.3 in c:\\users\\avishek kumar\\appdata\\local\\programs\\python\\python39\\lib\\site-packages (from huggingface-hub<1.0,>=0.16.4->transformers) (4.8.0)\n",
      "Requirement already satisfied: colorama in c:\\users\\avishek kumar\\appdata\\local\\programs\\python\\python39\\lib\\site-packages (from tqdm>=4.27->transformers) (0.4.6)\n",
      "Requirement already satisfied: charset-normalizer<3,>=2 in c:\\users\\avishek kumar\\appdata\\local\\programs\\python\\python39\\lib\\site-packages (from requests->transformers) (2.1.0)\n",
      "Requirement already satisfied: idna<4,>=2.5 in c:\\users\\avishek kumar\\appdata\\local\\programs\\python\\python39\\lib\\site-packages (from requests->transformers) (3.3)\n",
      "Requirement already satisfied: urllib3<1.27,>=1.21.1 in c:\\users\\avishek kumar\\appdata\\local\\programs\\python\\python39\\lib\\site-packages (from requests->transformers) (1.26.11)\n",
      "Requirement already satisfied: certifi>=2017.4.17 in c:\\users\\avishek kumar\\appdata\\local\\programs\\python\\python39\\lib\\site-packages (from requests->transformers) (2022.6.15)\n"
     ]
    },
    {
     "name": "stderr",
     "output_type": "stream",
     "text": [
      "WARNING: Ignoring invalid distribution -rotobuf (c:\\users\\avishek kumar\\appdata\\local\\programs\\python\\python39\\lib\\site-packages)\n",
      "WARNING: Ignoring invalid distribution -rotobuf (c:\\users\\avishek kumar\\appdata\\local\\programs\\python\\python39\\lib\\site-packages)\n",
      "\n",
      "[notice] A new release of pip is available: 23.3.1 -> 24.0\n",
      "[notice] To update, run: python.exe -m pip install --upgrade pip\n"
     ]
    }
   ],
   "source": [
    "!pip install transformers"
   ]
  },
  {
   "cell_type": "code",
   "execution_count": 1,
   "metadata": {
    "_cell_guid": "b1076dfc-b9ad-4769-8c92-a6c4dae69d19",
    "_uuid": "8f2839f25d086af736a60e9eeb907d3b93b6e0e5",
    "execution": {
     "iopub.execute_input": "2023-11-04T09:47:45.080842Z",
     "iopub.status.busy": "2023-11-04T09:47:45.080378Z",
     "iopub.status.idle": "2023-11-04T09:47:48.221792Z",
     "shell.execute_reply": "2023-11-04T09:47:48.220540Z",
     "shell.execute_reply.started": "2023-11-04T09:47:45.080797Z"
    }
   },
   "outputs": [
    {
     "name": "stderr",
     "output_type": "stream",
     "text": [
      "c:\\users\\avishek kumar\\appdata\\local\\programs\\python\\python39\\lib\\site-packages\\transformers\\utils\\generic.py:441: UserWarning: torch.utils._pytree._register_pytree_node is deprecated. Please use torch.utils._pytree.register_pytree_node instead.\n",
      "  _torch_pytree._register_pytree_node(\n",
      "c:\\users\\avishek kumar\\appdata\\local\\programs\\python\\python39\\lib\\site-packages\\transformers\\utils\\generic.py:309: UserWarning: torch.utils._pytree._register_pytree_node is deprecated. Please use torch.utils._pytree.register_pytree_node instead.\n",
      "  _torch_pytree._register_pytree_node(\n"
     ]
    }
   ],
   "source": [
    "import pandas as pd\n",
    "import numpy as np\n",
    "import seaborn as sns\n",
    "import matplotlib.pyplot as plt\n",
    "from tqdm import tqdm\n",
    "\n",
    "import torch\n",
    "import torch.nn as nn\n",
    "from torch.utils.data import Dataset, DataLoader\n",
    "from transformers import BertTokenizer, BertModel\n",
    "\n",
    "\n",
    "from sklearn.preprocessing import LabelEncoder\n",
    "from sklearn.model_selection import train_test_split"
   ]
  },
  {
   "cell_type": "markdown",
   "metadata": {},
   "source": [
    "# Data Preparation"
   ]
  },
  {
   "cell_type": "code",
   "execution_count": 2,
   "metadata": {
    "execution": {
     "iopub.execute_input": "2023-11-04T09:47:48.224046Z",
     "iopub.status.busy": "2023-11-04T09:47:48.223422Z",
     "iopub.status.idle": "2023-11-04T09:47:48.275696Z",
     "shell.execute_reply": "2023-11-04T09:47:48.274836Z",
     "shell.execute_reply.started": "2023-11-04T09:47:48.224004Z"
    }
   },
   "outputs": [],
   "source": [
    "# load the dataset\n",
    "train_df = pd.read_csv('Corona_NLP_train.csv',  encoding = 'latin-1')\n",
    "val_df = pd.read_csv('Corona_NLP_test.csv',  encoding = 'latin-1')"
   ]
  },
  {
   "cell_type": "code",
   "execution_count": 3,
   "metadata": {
    "execution": {
     "iopub.execute_input": "2023-11-04T09:47:48.278640Z",
     "iopub.status.busy": "2023-11-04T09:47:48.278157Z",
     "iopub.status.idle": "2023-11-04T09:47:48.287798Z",
     "shell.execute_reply": "2023-11-04T09:47:48.286622Z",
     "shell.execute_reply.started": "2023-11-04T09:47:48.278598Z"
    }
   },
   "outputs": [
    {
     "data": {
      "text/plain": [
       "(41157, 6)"
      ]
     },
     "execution_count": 3,
     "metadata": {},
     "output_type": "execute_result"
    }
   ],
   "source": [
    "train_df.shape"
   ]
  },
  {
   "cell_type": "code",
   "execution_count": 4,
   "metadata": {},
   "outputs": [],
   "source": [
    "train_df.drop(['UserName','ScreenName','Location','TweetAt'],axis=1,inplace=True)\n",
    "train_df=train_df.rename(columns={\"OriginalTweet\":'text'})\n",
    "train_df=train_df.rename(columns={\"Sentiment\":'emotion'})"
   ]
  },
  {
   "cell_type": "code",
   "execution_count": 5,
   "metadata": {
    "execution": {
     "iopub.execute_input": "2023-11-04T09:47:48.289410Z",
     "iopub.status.busy": "2023-11-04T09:47:48.289026Z",
     "iopub.status.idle": "2023-11-04T09:47:48.302757Z",
     "shell.execute_reply": "2023-11-04T09:47:48.301551Z",
     "shell.execute_reply.started": "2023-11-04T09:47:48.289368Z"
    }
   },
   "outputs": [
    {
     "data": {
      "text/html": [
       "<div>\n",
       "<style scoped>\n",
       "    .dataframe tbody tr th:only-of-type {\n",
       "        vertical-align: middle;\n",
       "    }\n",
       "\n",
       "    .dataframe tbody tr th {\n",
       "        vertical-align: top;\n",
       "    }\n",
       "\n",
       "    .dataframe thead th {\n",
       "        text-align: right;\n",
       "    }\n",
       "</style>\n",
       "<table border=\"1\" class=\"dataframe\">\n",
       "  <thead>\n",
       "    <tr style=\"text-align: right;\">\n",
       "      <th></th>\n",
       "      <th>text</th>\n",
       "      <th>emotion</th>\n",
       "    </tr>\n",
       "  </thead>\n",
       "  <tbody>\n",
       "    <tr>\n",
       "      <th>0</th>\n",
       "      <td>@MeNyrbie @Phil_Gahan @Chrisitv https://t.co/i...</td>\n",
       "      <td>Neutral</td>\n",
       "    </tr>\n",
       "    <tr>\n",
       "      <th>1</th>\n",
       "      <td>advice Talk to your neighbours family to excha...</td>\n",
       "      <td>Positive</td>\n",
       "    </tr>\n",
       "    <tr>\n",
       "      <th>2</th>\n",
       "      <td>Coronavirus Australia: Woolworths to give elde...</td>\n",
       "      <td>Positive</td>\n",
       "    </tr>\n",
       "    <tr>\n",
       "      <th>3</th>\n",
       "      <td>My food stock is not the only one which is emp...</td>\n",
       "      <td>Positive</td>\n",
       "    </tr>\n",
       "    <tr>\n",
       "      <th>4</th>\n",
       "      <td>Me, ready to go at supermarket during the #COV...</td>\n",
       "      <td>Extremely Negative</td>\n",
       "    </tr>\n",
       "  </tbody>\n",
       "</table>\n",
       "</div>"
      ],
      "text/plain": [
       "                                                text             emotion\n",
       "0  @MeNyrbie @Phil_Gahan @Chrisitv https://t.co/i...             Neutral\n",
       "1  advice Talk to your neighbours family to excha...            Positive\n",
       "2  Coronavirus Australia: Woolworths to give elde...            Positive\n",
       "3  My food stock is not the only one which is emp...            Positive\n",
       "4  Me, ready to go at supermarket during the #COV...  Extremely Negative"
      ]
     },
     "execution_count": 5,
     "metadata": {},
     "output_type": "execute_result"
    }
   ],
   "source": [
    "train_df.head()"
   ]
  },
  {
   "cell_type": "code",
   "execution_count": 6,
   "metadata": {},
   "outputs": [],
   "source": [
    "val_df.drop(['UserName','ScreenName','Location','TweetAt'],axis=1,inplace=True)\n",
    "val_df=val_df.rename(columns={\"OriginalTweet\":'text'})\n",
    "val_df=val_df.rename(columns={\"Sentiment\":'emotion'})"
   ]
  },
  {
   "cell_type": "code",
   "execution_count": 7,
   "metadata": {},
   "outputs": [
    {
     "data": {
      "text/html": [
       "<div>\n",
       "<style scoped>\n",
       "    .dataframe tbody tr th:only-of-type {\n",
       "        vertical-align: middle;\n",
       "    }\n",
       "\n",
       "    .dataframe tbody tr th {\n",
       "        vertical-align: top;\n",
       "    }\n",
       "\n",
       "    .dataframe thead th {\n",
       "        text-align: right;\n",
       "    }\n",
       "</style>\n",
       "<table border=\"1\" class=\"dataframe\">\n",
       "  <thead>\n",
       "    <tr style=\"text-align: right;\">\n",
       "      <th></th>\n",
       "      <th>text</th>\n",
       "      <th>emotion</th>\n",
       "    </tr>\n",
       "  </thead>\n",
       "  <tbody>\n",
       "    <tr>\n",
       "      <th>0</th>\n",
       "      <td>TRENDING: New Yorkers encounter empty supermar...</td>\n",
       "      <td>Extremely Negative</td>\n",
       "    </tr>\n",
       "    <tr>\n",
       "      <th>1</th>\n",
       "      <td>When I couldn't find hand sanitizer at Fred Me...</td>\n",
       "      <td>Positive</td>\n",
       "    </tr>\n",
       "    <tr>\n",
       "      <th>2</th>\n",
       "      <td>Find out how you can protect yourself and love...</td>\n",
       "      <td>Extremely Positive</td>\n",
       "    </tr>\n",
       "    <tr>\n",
       "      <th>3</th>\n",
       "      <td>#Panic buying hits #NewYork City as anxious sh...</td>\n",
       "      <td>Negative</td>\n",
       "    </tr>\n",
       "    <tr>\n",
       "      <th>4</th>\n",
       "      <td>#toiletpaper #dunnypaper #coronavirus #coronav...</td>\n",
       "      <td>Neutral</td>\n",
       "    </tr>\n",
       "    <tr>\n",
       "      <th>...</th>\n",
       "      <td>...</td>\n",
       "      <td>...</td>\n",
       "    </tr>\n",
       "    <tr>\n",
       "      <th>3793</th>\n",
       "      <td>Meanwhile In A Supermarket in Israel -- People...</td>\n",
       "      <td>Positive</td>\n",
       "    </tr>\n",
       "    <tr>\n",
       "      <th>3794</th>\n",
       "      <td>Did you panic buy a lot of non-perishable item...</td>\n",
       "      <td>Negative</td>\n",
       "    </tr>\n",
       "    <tr>\n",
       "      <th>3795</th>\n",
       "      <td>Asst Prof of Economics @cconces was on @NBCPhi...</td>\n",
       "      <td>Neutral</td>\n",
       "    </tr>\n",
       "    <tr>\n",
       "      <th>3796</th>\n",
       "      <td>Gov need to do somethings instead of biar je r...</td>\n",
       "      <td>Extremely Negative</td>\n",
       "    </tr>\n",
       "    <tr>\n",
       "      <th>3797</th>\n",
       "      <td>I and @ForestandPaper members are committed to...</td>\n",
       "      <td>Extremely Positive</td>\n",
       "    </tr>\n",
       "  </tbody>\n",
       "</table>\n",
       "<p>3798 rows × 2 columns</p>\n",
       "</div>"
      ],
      "text/plain": [
       "                                                   text             emotion\n",
       "0     TRENDING: New Yorkers encounter empty supermar...  Extremely Negative\n",
       "1     When I couldn't find hand sanitizer at Fred Me...            Positive\n",
       "2     Find out how you can protect yourself and love...  Extremely Positive\n",
       "3     #Panic buying hits #NewYork City as anxious sh...            Negative\n",
       "4     #toiletpaper #dunnypaper #coronavirus #coronav...             Neutral\n",
       "...                                                 ...                 ...\n",
       "3793  Meanwhile In A Supermarket in Israel -- People...            Positive\n",
       "3794  Did you panic buy a lot of non-perishable item...            Negative\n",
       "3795  Asst Prof of Economics @cconces was on @NBCPhi...             Neutral\n",
       "3796  Gov need to do somethings instead of biar je r...  Extremely Negative\n",
       "3797  I and @ForestandPaper members are committed to...  Extremely Positive\n",
       "\n",
       "[3798 rows x 2 columns]"
      ]
     },
     "execution_count": 7,
     "metadata": {},
     "output_type": "execute_result"
    }
   ],
   "source": [
    "val_df"
   ]
  },
  {
   "cell_type": "code",
   "execution_count": 8,
   "metadata": {},
   "outputs": [],
   "source": [
    "train_df=train_df[:10000]"
   ]
  },
  {
   "cell_type": "markdown",
   "metadata": {},
   "source": [
    "## Quick EDA"
   ]
  },
  {
   "cell_type": "markdown",
   "metadata": {},
   "source": [
    "## Unique emotions"
   ]
  },
  {
   "cell_type": "code",
   "execution_count": 9,
   "metadata": {
    "execution": {
     "iopub.execute_input": "2023-11-04T09:47:52.404491Z",
     "iopub.status.busy": "2023-11-04T09:47:52.403406Z",
     "iopub.status.idle": "2023-11-04T09:47:52.656237Z",
     "shell.execute_reply": "2023-11-04T09:47:52.655211Z",
     "shell.execute_reply.started": "2023-11-04T09:47:52.404450Z"
    }
   },
   "outputs": [
    {
     "data": {
      "image/png": "[encoded data removed]",
      "text/plain": [
       "<Figure size 432x288 with 1 Axes>"
      ]
     },
     "metadata": {
      "needs_background": "light"
     },
     "output_type": "display_data"
    }
   ],
   "source": [
    "sns.countplot(data=train_df, x=\"emotion\");"
   ]
  },
  {
   "cell_type": "code",
   "execution_count": 10,
   "metadata": {
    "execution": {
     "iopub.execute_input": "2023-11-04T09:48:06.579532Z",
     "iopub.status.busy": "2023-11-04T09:48:06.578609Z",
     "iopub.status.idle": "2023-11-04T09:48:06.592099Z",
     "shell.execute_reply": "2023-11-04T09:48:06.591015Z",
     "shell.execute_reply.started": "2023-11-04T09:48:06.579490Z"
    }
   },
   "outputs": [],
   "source": [
    "# encode the emotion column\n",
    "le = LabelEncoder()\n",
    "train_df['emotion'] = le.fit_transform(train_df['emotion'])\n",
    "val_df['emotion']=le.fit_transform(val_df['emotion'])"
   ]
  },
  {
   "cell_type": "code",
   "execution_count": 18,
   "metadata": {
    "execution": {
     "iopub.execute_input": "2023-11-04T09:48:21.901697Z",
     "iopub.status.busy": "2023-11-04T09:48:21.901339Z",
     "iopub.status.idle": "2023-11-04T09:48:22.838142Z",
     "shell.execute_reply": "2023-11-04T09:48:22.836984Z",
     "shell.execute_reply.started": "2023-11-04T09:48:21.901663Z"
    }
   },
   "outputs": [
    {
     "name": "stdout",
     "output_type": "stream",
     "text": [
      "Collecting emoji\n",
      "  Downloading emoji-2.11.0-py2.py3-none-any.whl.metadata (5.3 kB)\n",
      "Downloading emoji-2.11.0-py2.py3-none-any.whl (433 kB)\n",
      "   ---------------------------------------- 433.8/433.8 kB 1.5 MB/s eta 0:00:00\n",
      "Installing collected packages: emoji\n",
      "Successfully installed emoji-2.11.0\n",
      "Note: you may need to restart the kernel to use updated packages.\n"
     ]
    },
    {
     "name": "stderr",
     "output_type": "stream",
     "text": [
      "WARNING: Ignoring invalid distribution -rotobuf (c:\\users\\avishek kumar\\appdata\\local\\programs\\python\\python39\\lib\\site-packages)\n",
      "WARNING: Ignoring invalid distribution -rotobuf (c:\\users\\avishek kumar\\appdata\\local\\programs\\python\\python39\\lib\\site-packages)\n",
      "\n",
      "[notice] A new release of pip is available: 23.3.1 -> 24.0\n",
      "[notice] To update, run: python.exe -m pip install --upgrade pip\n"
     ]
    }
   ],
   "source": [
    "pip install emoji"
   ]
  },
  {
   "cell_type": "code",
   "execution_count": 36,
   "metadata": {
    "execution": {
     "iopub.execute_input": "2023-11-04T09:48:11.121896Z",
     "iopub.status.busy": "2023-11-04T09:48:11.121160Z",
     "iopub.status.idle": "2023-11-04T09:48:21.899285Z",
     "shell.execute_reply": "2023-11-04T09:48:21.898102Z",
     "shell.execute_reply.started": "2023-11-04T09:48:11.121854Z"
    }
   },
   "outputs": [
    {
     "name": "stderr",
     "output_type": "stream",
     "text": [
      "[nltk_data] Downloading package punkt to C:\\Users\\Avishek\n",
      "[nltk_data]     kumar\\AppData\\Roaming\\nltk_data...\n",
      "[nltk_data]   Package punkt is already up-to-date!\n",
      "[nltk_data] Downloading package stopwords to C:\\Users\\Avishek\n",
      "[nltk_data]     kumar\\AppData\\Roaming\\nltk_data...\n",
      "[nltk_data]   Package stopwords is already up-to-date!\n",
      "[nltk_data] Downloading package wordnet to C:\\Users\\Avishek\n",
      "[nltk_data]     kumar\\AppData\\Roaming\\nltk_data...\n",
      "[nltk_data]   Package wordnet is already up-to-date!\n"
     ]
    }
   ],
   "source": [
    "import pandas as pd\n",
    "import nltk\n",
    "from nltk.corpus import stopwords\n",
    "from nltk.tokenize import word_tokenize\n",
    "from nltk.stem import WordNetLemmatizer\n",
    "import re\n",
    "\n",
    "# Download NLTK resources\n",
    "nltk.download('punkt')\n",
    "nltk.download('stopwords')\n",
    "nltk.download('wordnet')\n",
    "\n",
    "data = pd.DataFrame()\n",
    "\n",
    "data['text']=train_df['text']\n",
    "\n",
    "# Remove special characters, numbers, and convert to lowercase\n",
    "def clean_text(text):\n",
    "    text = re.sub(r'[^a-zA-Z\\s]', '', text, re.I|re.A) # Remove non-alphabetic characters\n",
    "    text = text.lower()  # Convert to lowercase\n",
    "    return text\n",
    "\n",
    "data['cleaned_text'] = data['text'].apply(clean_text)\n",
    "\n",
    "# Tokenization\n",
    "data['tokenized_text'] = data['cleaned_text'].apply(word_tokenize)\n",
    "\n",
    "# Remove stopwords\n",
    "stop_words = set(stopwords.words('english'))\n",
    "data['filtered_text'] = data['tokenized_text'].apply(lambda x: [word for word in x if word not in stop_words])\n",
    "\n",
    "# Lemmatization\n",
    "lemmatizer = WordNetLemmatizer()\n",
    "data['lemmatized_text'] = data['filtered_text'].apply(lambda x: [lemmatizer.lemmatize(word) for word in x])\n",
    "\n",
    "# Join tokens back into sentences\n",
    "data['preprocessed_text'] = data['lemmatized_text'].apply(lambda x: ' '.join(x))\n"
   ]
  },
  {
   "cell_type": "code",
   "execution_count": 38,
   "metadata": {},
   "outputs": [],
   "source": [
    "train_df['processed_text']=data['preprocessed_text']"
   ]
  },
  {
   "cell_type": "code",
   "execution_count": 39,
   "metadata": {
    "execution": {
     "iopub.execute_input": "2023-11-04T09:50:42.252297Z",
     "iopub.status.busy": "2023-11-04T09:50:42.251313Z",
     "iopub.status.idle": "2023-11-04T09:50:42.261128Z",
     "shell.execute_reply": "2023-11-04T09:50:42.260049Z",
     "shell.execute_reply.started": "2023-11-04T09:50:42.252252Z"
    }
   },
   "outputs": [
    {
     "data": {
      "text/plain": [
       "0       menyrbie philgahan chrisitv httpstcoifzfanpa h...\n",
       "1       advice talk neighbour family exchange phone nu...\n",
       "2       coronavirus australia woolworth give elderly d...\n",
       "3       food stock one empty please dont panic enough ...\n",
       "4       ready go supermarket covid outbreak im paranoi...\n",
       "                              ...                        \n",
       "9995    popped food oldham polite patient calm staynor...\n",
       "9996    found first paper towel week supermarket treat...\n",
       "9997    coronavirus chaos im grateful faith jesus groc...\n",
       "9998    therapist lisa olivera gave gratitude card gro...\n",
       "9999    older people condition isolate said stay away ...\n",
       "Name: processed_text, Length: 10000, dtype: object"
      ]
     },
     "execution_count": 39,
     "metadata": {},
     "output_type": "execute_result"
    }
   ],
   "source": [
    "train_df['processed_text']"
   ]
  },
  {
   "cell_type": "markdown",
   "metadata": {},
   "source": [
    "### Statistics about length of text"
   ]
  },
  {
   "cell_type": "code",
   "execution_count": 40,
   "metadata": {
    "execution": {
     "iopub.execute_input": "2023-11-04T09:50:47.562995Z",
     "iopub.status.busy": "2023-11-04T09:50:47.562568Z",
     "iopub.status.idle": "2023-11-04T09:50:47.577917Z",
     "shell.execute_reply": "2023-11-04T09:50:47.576940Z",
     "shell.execute_reply.started": "2023-11-04T09:50:47.562959Z"
    }
   },
   "outputs": [],
   "source": [
    "train_df['text_length'] = train_df['text'].apply(len)"
   ]
  },
  {
   "cell_type": "code",
   "execution_count": 41,
   "metadata": {
    "execution": {
     "iopub.execute_input": "2023-11-04T09:50:48.306345Z",
     "iopub.status.busy": "2023-11-04T09:50:48.305712Z",
     "iopub.status.idle": "2023-11-04T09:50:48.318939Z",
     "shell.execute_reply": "2023-11-04T09:50:48.317802Z",
     "shell.execute_reply.started": "2023-11-04T09:50:48.306309Z"
    }
   },
   "outputs": [
    {
     "data": {
      "text/plain": [
       "count    10000.000000\n",
       "mean       208.253400\n",
       "std         67.414038\n",
       "min         11.000000\n",
       "25%        156.000000\n",
       "50%        220.000000\n",
       "75%        264.000000\n",
       "max        350.000000\n",
       "Name: text_length, dtype: float64"
      ]
     },
     "execution_count": 41,
     "metadata": {},
     "output_type": "execute_result"
    }
   ],
   "source": [
    "summary = train_df['text_length'].describe()\n",
    "summary"
   ]
  },
  {
   "cell_type": "markdown",
   "metadata": {},
   "source": [
    "**maximum length** of the text in the dataset is 300 but 75% of the values are behind 129 and median is around 86 thus there's a skewness present in the dataset"
   ]
  },
  {
   "cell_type": "code",
   "execution_count": 42,
   "metadata": {
    "execution": {
     "iopub.execute_input": "2023-11-04T09:50:49.306694Z",
     "iopub.status.busy": "2023-11-04T09:50:49.305969Z",
     "iopub.status.idle": "2023-11-04T09:50:49.497901Z",
     "shell.execute_reply": "2023-11-04T09:50:49.496804Z",
     "shell.execute_reply.started": "2023-11-04T09:50:49.306656Z"
    }
   },
   "outputs": [
    {
     "data": {
      "image/png": "[encoded data removed]",
      "text/plain": [
       "<Figure size 432x288 with 1 Axes>"
      ]
     },
     "metadata": {
      "needs_background": "light"
     },
     "output_type": "display_data"
    }
   ],
   "source": [
    "sns.boxplot(data=train_df, x='text_length');"
   ]
  },
  {
   "cell_type": "code",
   "execution_count": 43,
   "metadata": {
    "execution": {
     "iopub.execute_input": "2023-11-04T09:50:50.719727Z",
     "iopub.status.busy": "2023-11-04T09:50:50.718936Z",
     "iopub.status.idle": "2023-11-04T09:50:51.200295Z",
     "shell.execute_reply": "2023-11-04T09:50:51.199182Z",
     "shell.execute_reply.started": "2023-11-04T09:50:50.719683Z"
    }
   },
   "outputs": [
    {
     "data": {
      "image/png": "[encoded data removed]",
      "text/plain": [
       "<Figure size 432x288 with 1 Axes>"
      ]
     },
     "metadata": {
      "needs_background": "light"
     },
     "output_type": "display_data"
    }
   ],
   "source": [
    "sns.histplot(data=train_df, x='text_length')\n",
    "plt.axvline(summary['min'], color='r', linestyle='--', label='Min')\n",
    "plt.axvline(summary['25%'], color='b', linestyle='--', label='25%')\n",
    "plt.axvline(summary['50%'], color='g', linestyle='--', label='Median')\n",
    "plt.axvline(summary['75%'], color='b', linestyle='--', label='75%')\n",
    "plt.axvline(summary['max'], color='r', linestyle='--', label='Max')\n",
    "plt.legend();"
   ]
  },
  {
   "cell_type": "markdown",
   "metadata": {},
   "source": [
    "Since 75% of the values fall below length 129, using max_length 300 for our NLP algorithms would not be the best decision because it will result in sparser data because we will need to add a lot of padding to texts."
   ]
  },
  {
   "cell_type": "markdown",
   "metadata": {},
   "source": [
    "## Column Encoding"
   ]
  },
  {
   "cell_type": "code",
   "execution_count": 44,
   "metadata": {},
   "outputs": [
    {
     "data": {
      "text/plain": [
       "0       0\n",
       "1       4\n",
       "2       1\n",
       "3       2\n",
       "4       3\n",
       "       ..\n",
       "3793    4\n",
       "3794    2\n",
       "3795    3\n",
       "3796    0\n",
       "3797    1\n",
       "Name: emotion, Length: 3798, dtype: int32"
      ]
     },
     "execution_count": 44,
     "metadata": {},
     "output_type": "execute_result"
    }
   ],
   "source": [
    "val_df['emotion']"
   ]
  },
  {
   "cell_type": "markdown",
   "metadata": {},
   "source": [
    "## Emotion Dataset"
   ]
  },
  {
   "cell_type": "code",
   "execution_count": 45,
   "metadata": {
    "execution": {
     "iopub.execute_input": "2023-11-04T09:50:58.308996Z",
     "iopub.status.busy": "2023-11-04T09:50:58.308074Z",
     "iopub.status.idle": "2023-11-04T09:50:58.318380Z",
     "shell.execute_reply": "2023-11-04T09:50:58.317303Z",
     "shell.execute_reply.started": "2023-11-04T09:50:58.308943Z"
    }
   },
   "outputs": [],
   "source": [
    "class EmotionDataset(Dataset):\n",
    "    def __init__(self, df, tokenizer, max_len):\n",
    "        self.df = df\n",
    "        self.tokenizer = tokenizer\n",
    "        self.max_len = max_len\n",
    "    \n",
    "    def __len__(self):\n",
    "        return len(self.df)\n",
    "    \n",
    "    def __getitem__(self, index):\n",
    "        text = str(self.df.loc[index, 'text'])\n",
    "        emotion = self.df.loc[index, 'emotion']\n",
    "        \n",
    "        encoding = self.tokenizer.encode_plus(\n",
    "            text,\n",
    "            add_special_tokens=True,\n",
    "            truncation=True,\n",
    "            max_length=self.max_len,\n",
    "            return_token_type_ids=False,\n",
    "            padding='max_length',\n",
    "            return_attention_mask=True,\n",
    "            return_tensors='pt',\n",
    "        )\n",
    "        \n",
    "        return {\n",
    "            'text': text,\n",
    "            'input_ids': encoding['input_ids'].flatten(),\n",
    "            'attention_mask': encoding['attention_mask'].flatten(),\n",
    "            'emotion': torch.tensor(emotion, dtype=torch.long)\n",
    "        }"
   ]
  },
  {
   "cell_type": "markdown",
   "metadata": {},
   "source": [
    "## Tokenizer"
   ]
  },
  {
   "cell_type": "code",
   "execution_count": 46,
   "metadata": {
    "execution": {
     "iopub.execute_input": "2023-11-04T09:51:03.948108Z",
     "iopub.status.busy": "2023-11-04T09:51:03.947228Z",
     "iopub.status.idle": "2023-11-04T09:51:04.122052Z",
     "shell.execute_reply": "2023-11-04T09:51:04.120984Z",
     "shell.execute_reply.started": "2023-11-04T09:51:03.948064Z"
    }
   },
   "outputs": [],
   "source": [
    "# create an instance of the BERT tokenizer\n",
    "tokenizer = BertTokenizer.from_pretrained('bert-base-uncased')"
   ]
  },
  {
   "cell_type": "code",
   "execution_count": 47,
   "metadata": {
    "execution": {
     "iopub.execute_input": "2023-11-04T09:51:04.124438Z",
     "iopub.status.busy": "2023-11-04T09:51:04.124084Z",
     "iopub.status.idle": "2023-11-04T09:51:04.131458Z",
     "shell.execute_reply": "2023-11-04T09:51:04.130252Z",
     "shell.execute_reply.started": "2023-11-04T09:51:04.124403Z"
    }
   },
   "outputs": [],
   "source": [
    "# set the batch size\n",
    "batch_size = 32\n",
    "\n",
    "# set the maximum sequence length\n",
    "max_len = 150\n",
    "\n",
    "# create data loaders for the training and validation sets\n",
    "train_dataset = EmotionDataset(train_df, tokenizer, max_len)\n",
    "train_loader = DataLoader(train_dataset, batch_size=batch_size, shuffle=True)\n",
    "\n",
    "val_dataset = EmotionDataset(val_df, tokenizer, max_len)\n",
    "val_loader = DataLoader(val_dataset, batch_size=batch_size)"
   ]
  },
  {
   "cell_type": "markdown",
   "metadata": {},
   "source": [
    "# Model"
   ]
  },
  {
   "cell_type": "code",
   "execution_count": 48,
   "metadata": {
    "execution": {
     "iopub.execute_input": "2023-11-04T09:51:04.133015Z",
     "iopub.status.busy": "2023-11-04T09:51:04.132693Z",
     "iopub.status.idle": "2023-11-04T09:51:04.143386Z",
     "shell.execute_reply": "2023-11-04T09:51:04.142335Z",
     "shell.execute_reply.started": "2023-11-04T09:51:04.132985Z"
    }
   },
   "outputs": [],
   "source": [
    "class BertSentimentClassifier(nn.Module):\n",
    "    def __init__(self, bert_model_name, num_classes):\n",
    "        super(BertSentimentClassifier, self).__init__()\n",
    "        \n",
    "        self.bert = BertModel.from_pretrained(bert_model_name)\n",
    "        self.dropout1 = nn.Dropout(0.2)\n",
    "        self.fc1 = nn.Linear(self.bert.config.hidden_size, 256)\n",
    "        self.dropout2 = nn.Dropout(0.2)\n",
    "        self.fc2 = nn.Linear(256, num_classes)\n",
    "\n",
    "\n",
    "    def forward(self, input_ids, attention_mask):\n",
    "        outputs = self.bert(input_ids=input_ids, attention_mask=attention_mask)\n",
    "        pooled_output = outputs.pooler_output\n",
    "        pooled_output = self.dropout1(pooled_output)\n",
    "        output = self.fc1(pooled_output)\n",
    "        output = self.dropout2(output)\n",
    "        logits = self.fc2(output)\n",
    "        \n",
    "        return logits"
   ]
  },
  {
   "cell_type": "code",
   "execution_count": 49,
   "metadata": {
    "execution": {
     "iopub.execute_input": "2023-11-04T09:51:04.145933Z",
     "iopub.status.busy": "2023-11-04T09:51:04.145624Z",
     "iopub.status.idle": "2023-11-04T09:51:05.902488Z",
     "shell.execute_reply": "2023-11-04T09:51:05.901437Z",
     "shell.execute_reply.started": "2023-11-04T09:51:04.145904Z"
    }
   },
   "outputs": [],
   "source": [
    "bert_model_name = \"bert-base-uncased\"\n",
    "num_classes = train_df[\"emotion\"].nunique()\n",
    "model = BertSentimentClassifier(bert_model_name, num_classes)"
   ]
  },
  {
   "cell_type": "code",
   "execution_count": 50,
   "metadata": {
    "execution": {
     "iopub.execute_input": "2023-11-04T09:51:05.903980Z",
     "iopub.status.busy": "2023-11-04T09:51:05.903675Z",
     "iopub.status.idle": "2023-11-04T09:51:05.908763Z",
     "shell.execute_reply": "2023-11-04T09:51:05.907768Z",
     "shell.execute_reply.started": "2023-11-04T09:51:05.903951Z"
    }
   },
   "outputs": [],
   "source": [
    "criterion = nn.CrossEntropyLoss()"
   ]
  },
  {
   "cell_type": "markdown",
   "metadata": {},
   "source": [
    "# Training"
   ]
  },
  {
   "cell_type": "code",
   "execution_count": 51,
   "metadata": {
    "execution": {
     "iopub.execute_input": "2023-11-04T09:51:05.910839Z",
     "iopub.status.busy": "2023-11-04T09:51:05.910384Z",
     "iopub.status.idle": "2023-11-04T09:51:05.921570Z",
     "shell.execute_reply": "2023-11-04T09:51:05.920736Z",
     "shell.execute_reply.started": "2023-11-04T09:51:05.910799Z"
    }
   },
   "outputs": [],
   "source": [
    "def train(model, data_loader, optimizer, criterion, device):\n",
    "    # set the model to train mode\n",
    "    model.train()\n",
    "    \n",
    "    # initialize the loss and accuracy \n",
    "    total_loss, total_accuracy = 0, 0\n",
    "    \n",
    "    # iterate over the data loader\n",
    "    for data in tqdm(data_loader):\n",
    "        # move the inputs to the device\n",
    "        input_ids = data['input_ids'].to(device)\n",
    "        attention_mask = data['attention_mask'].to(device)\n",
    "        labels = data['emotion'].to(device)\n",
    "        \n",
    "        # zero the gradient\n",
    "        optimizer.zero_grad()\n",
    "    \n",
    "        # get the model's predictions\n",
    "        outputs = model(input_ids, attention_mask)\n",
    "\n",
    "        # get the loss\n",
    "        loss = criterion(outputs, labels)\n",
    "        total_loss += loss.item()\n",
    "        \n",
    "        # accuracy calculation\n",
    "        logits = outputs.detach().cpu().numpy()\n",
    "        label_ids = labels.to('cpu').numpy()\n",
    "\n",
    "        total_accuracy += flat_accuracy(logits, label_ids)\n",
    "\n",
    "        # perform backpropagation and optimization\n",
    "        loss.backward()\n",
    "        optimizer.step()\n",
    "\n",
    "    # calculate the average loss\n",
    "    avg_loss = total_loss / len(data_loader)\n",
    "    avg_acc = total_accuracy / len(data_loader)\n",
    "\n",
    "\n",
    "    return avg_loss, avg_acc"
   ]
  },
  {
   "cell_type": "code",
   "execution_count": 52,
   "metadata": {
    "execution": {
     "iopub.execute_input": "2023-11-04T09:51:05.922981Z",
     "iopub.status.busy": "2023-11-04T09:51:05.922715Z",
     "iopub.status.idle": "2023-11-04T09:51:05.936877Z",
     "shell.execute_reply": "2023-11-04T09:51:05.935837Z",
     "shell.execute_reply.started": "2023-11-04T09:51:05.922954Z"
    }
   },
   "outputs": [],
   "source": [
    "def evaluate(model, data_loader, criterion, device):\n",
    "    # set the model to eval mode\n",
    "    model.eval()\n",
    "    \n",
    "    # initialize the loss and accuracy variables\n",
    "    total_loss = 0\n",
    "    total_accuracy = 0\n",
    "    \n",
    "    # iterate over the data loader\n",
    "    for data in tqdm(data_loader):\n",
    "        # move the inputs to the device\n",
    "        input_ids = data['input_ids'].to(device)\n",
    "        attention_mask = data['attention_mask'].to(device)\n",
    "        labels = data['emotion'].to(device)\n",
    "        \n",
    "        # disable gradient computation\n",
    "        with torch.no_grad():\n",
    "            # get the model's predictions\n",
    "            outputs = model(input_ids, attention_mask)\n",
    "            \n",
    "            # get the loss\n",
    "            loss = criterion(outputs, labels)\n",
    "            total_loss += loss.item()\n",
    "            \n",
    "            # calculate the number of correct predictions\n",
    "            logits = outputs.detach().cpu().numpy()\n",
    "            label_ids = labels.to('cpu').numpy()\n",
    "\n",
    "            total_accuracy += flat_accuracy(logits, label_ids)\n",
    "    \n",
    "    # calculate the average loss and accuracy\n",
    "    avg_loss = total_loss / len(data_loader)\n",
    "    accuracy = total_accuracy / len(data_loader)\n",
    "    \n",
    "    return avg_loss, accuracy"
   ]
  },
  {
   "cell_type": "code",
   "execution_count": 53,
   "metadata": {
    "execution": {
     "iopub.execute_input": "2023-11-04T09:51:05.938464Z",
     "iopub.status.busy": "2023-11-04T09:51:05.938106Z",
     "iopub.status.idle": "2023-11-04T09:51:05.950458Z",
     "shell.execute_reply": "2023-11-04T09:51:05.949514Z",
     "shell.execute_reply.started": "2023-11-04T09:51:05.938425Z"
    }
   },
   "outputs": [],
   "source": [
    "def flat_accuracy(preds, labels):\n",
    "    pred_flat = np.argmax(preds, axis=1).flatten()\n",
    "    labels_flat = labels.flatten()\n",
    "    return np.sum(pred_flat == labels_flat) / len(labels_flat)"
   ]
  },
  {
   "cell_type": "code",
   "execution_count": null,
   "metadata": {
    "execution": {
     "iopub.execute_input": "2023-11-04T09:51:05.952146Z",
     "iopub.status.busy": "2023-11-04T09:51:05.951772Z",
     "iopub.status.idle": "2023-11-04T10:33:51.719665Z",
     "shell.execute_reply": "2023-11-04T10:33:51.718499Z",
     "shell.execute_reply.started": "2023-11-04T09:51:05.952108Z"
    }
   },
   "outputs": [
    {
     "name": "stdout",
     "output_type": "stream",
     "text": [
      "Epoch 1 \n"
     ]
    },
    {
     "name": "stderr",
     "output_type": "stream",
     "text": [
      "  1%|▌                                                                               | 2/313 [02:30<6:33:11, 75.86s/it]"
     ]
    }
   ],
   "source": [
    "# set the device\n",
    "device = torch.device('cuda' if torch.cuda.is_available() else 'cpu')\n",
    "\n",
    "# set the learning rate\n",
    "lr = 2e-5\n",
    "\n",
    "# set the number of epochs\n",
    "num_epochs = 2\n",
    "\n",
    "# set the optimizer\n",
    "optimizer = torch.optim.Adam(model.parameters(), lr=lr)\n",
    "\n",
    "# move the model to the device\n",
    "model.to(device)\n",
    "\n",
    "# lists to store metrics\n",
    "train_losses = []\n",
    "train_accuracies = []\n",
    "\n",
    "val_losses = []\n",
    "val_accuracies = []\n",
    "\n",
    "# iterate over the epochs\n",
    "for epoch in range(num_epochs):\n",
    "    print(f'Epoch {epoch + 1} ')\n",
    "    # train the model\n",
    "    train_loss, train_acc = train(model, train_loader, optimizer, criterion, device)\n",
    "    \n",
    "    # evaluate the model on the validation set\n",
    "    val_loss, val_acc = evaluate(model, val_loader, criterion, device)\n",
    "    \n",
    "    # print the loss and accuracy\n",
    "    print(f'Train Loss: {train_loss:.4f} | Train Acc: {train_acc:.4f} | Val Loss: {val_loss:.4f} | Val Acc: {val_acc:.4f}')\n",
    "        \n",
    "    # Save the loss and accuracy values\n",
    "    train_accuracies.append(train_acc)\n",
    "    train_losses.append(train_loss)\n",
    "    val_losses.append(val_loss)\n",
    "    val_accuracies.append(val_acc)\n",
    "\n",
    "    # Save the model weights\n",
    "    torch.save(model.state_dict(), f'weights_epoch{epoch + 1}.pt')"
   ]
  },
  {
   "cell_type": "code",
   "execution_count": null,
   "metadata": {
    "execution": {
     "iopub.execute_input": "2023-11-04T10:33:51.723847Z",
     "iopub.status.busy": "2023-11-04T10:33:51.723514Z",
     "iopub.status.idle": "2023-11-04T10:33:51.732745Z",
     "shell.execute_reply": "2023-11-04T10:33:51.731740Z",
     "shell.execute_reply.started": "2023-11-04T10:33:51.723816Z"
    }
   },
   "outputs": [],
   "source": [
    "import matplotlib.pyplot as plt\n",
    "\n",
    "def plot_metrics(train_losses, val_losses, train_accuracies, val_accuracies):\n",
    "    fig, ax = plt.subplots(1, 2, figsize=(12, 4))\n",
    "    \n",
    "    # Plot the training loss curve\n",
    "    ax[0].plot(train_losses, label='Training Loss')\n",
    "    ax[0].plot(val_losses, label='Validation Loss')\n",
    "    \n",
    "    ax[0].set_xlabel('Epoch')\n",
    "    ax[0].set_ylabel('Loss')\n",
    "    ax[0].set_title('Training and Validation Loss')\n",
    "    ax[0].legend()\n",
    "    \n",
    "    # Plot the training accuracy curve\n",
    "    ax[1].plot(train_accuracies, label='Training Accuracy')\n",
    "    ax[1].plot(val_accuracies, label='Validation Accuracy')\n",
    "    ax[1].set_xlabel('Epoch')\n",
    "    ax[1].set_ylabel('Accuracy')\n",
    "    ax[1].set_title('Training and Validation Accuracy')\n",
    "    \n",
    "    plt.show()\n"
   ]
  },
  {
   "cell_type": "markdown",
   "metadata": {},
   "source": [
    "# Test"
   ]
  },
  {
   "cell_type": "code",
   "execution_count": null,
   "metadata": {
    "execution": {
     "iopub.execute_input": "2023-11-04T10:33:51.734285Z",
     "iopub.status.busy": "2023-11-04T10:33:51.733902Z",
     "iopub.status.idle": "2023-11-04T10:33:51.751264Z",
     "shell.execute_reply": "2023-11-04T10:33:51.750310Z",
     "shell.execute_reply.started": "2023-11-04T10:33:51.734244Z"
    }
   },
   "outputs": [],
   "source": [
    "input_text = test_df.sample(n=1).text.values[0]\n",
    "input_text"
   ]
  },
  {
   "cell_type": "code",
   "execution_count": null,
   "metadata": {
    "execution": {
     "iopub.execute_input": "2023-11-04T10:33:51.752888Z",
     "iopub.status.busy": "2023-11-04T10:33:51.752510Z",
     "iopub.status.idle": "2023-11-04T10:33:51.763314Z",
     "shell.execute_reply": "2023-11-04T10:33:51.762468Z",
     "shell.execute_reply.started": "2023-11-04T10:33:51.752848Z"
    }
   },
   "outputs": [],
   "source": [
    "encoded_input = tokenizer.encode_plus(\n",
    "    input_text, \n",
    "    add_special_tokens=True,\n",
    "    truncation=True,\n",
    "    max_length= max_len,\n",
    "    return_token_type_ids=False,\n",
    "    padding='max_length',\n",
    "    return_attention_mask=True,\n",
    "    return_tensors='pt',\n",
    ").to(device)"
   ]
  },
  {
   "cell_type": "code",
   "execution_count": null,
   "metadata": {
    "execution": {
     "iopub.execute_input": "2023-11-04T10:33:51.765183Z",
     "iopub.status.busy": "2023-11-04T10:33:51.764812Z",
     "iopub.status.idle": "2023-11-04T10:33:51.808323Z",
     "shell.execute_reply": "2023-11-04T10:33:51.807358Z",
     "shell.execute_reply.started": "2023-11-04T10:33:51.765146Z"
    }
   },
   "outputs": [],
   "source": [
    "emotion_id = torch.argmax(model(**encoded_input), dim=1).item()"
   ]
  },
  {
   "cell_type": "code",
   "execution_count": null,
   "metadata": {
    "execution": {
     "iopub.execute_input": "2023-11-04T10:33:51.810152Z",
     "iopub.status.busy": "2023-11-04T10:33:51.809869Z",
     "iopub.status.idle": "2023-11-04T10:33:51.816741Z",
     "shell.execute_reply": "2023-11-04T10:33:51.815787Z",
     "shell.execute_reply.started": "2023-11-04T10:33:51.810124Z"
    }
   },
   "outputs": [],
   "source": [
    "le.inverse_transform([emotion_id])"
   ]
  },
  {
   "cell_type": "code",
   "execution_count": null,
   "metadata": {
    "execution": {
     "iopub.execute_input": "2023-11-04T10:33:51.818603Z",
     "iopub.status.busy": "2023-11-04T10:33:51.818147Z",
     "iopub.status.idle": "2023-11-04T10:33:52.085783Z",
     "shell.execute_reply": "2023-11-04T10:33:52.084841Z",
     "shell.execute_reply.started": "2023-11-04T10:33:51.818552Z"
    }
   },
   "outputs": [],
   "source": [
    "plot_metrics(train_losses, val_losses, train_accuracies, val_accuracies)"
   ]
  },
  {
   "cell_type": "code",
   "execution_count": null,
   "metadata": {},
   "outputs": [],
   "source": []
  }
 ],
 "metadata": {
  "kernelspec": {
   "display_name": "Python 3 (ipykernel)",
   "language": "python",
   "name": "python3"
  },
  "language_info": {
   "codemirror_mode": {
    "name": "ipython",
    "version": 3
   },
   "file_extension": ".py",
   "mimetype": "text/x-python",
   "name": "python",
   "nbconvert_exporter": "python",
   "pygments_lexer": "ipython3",
   "version": "3.9.5"
  }
 },
 "nbformat": 4,
 "nbformat_minor": 4
}
