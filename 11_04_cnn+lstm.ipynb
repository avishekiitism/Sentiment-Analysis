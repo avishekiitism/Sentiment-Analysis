{
 "cells": [
  {
   "cell_type": "markdown",
   "metadata": {},
   "source": [
    "# Sentiment Analysis"
   ]
  },
  {
   "cell_type": "code",
   "execution_count": 1,
   "metadata": {
    "execution": {
     "iopub.status.busy": "2024-04-11T13:47:26.757730Z",
     "iopub.status.idle": "2024-04-11T13:47:26.758034Z",
     "shell.execute_reply": "2024-04-11T13:47:26.757892Z",
     "shell.execute_reply.started": "2024-04-11T13:47:26.757871Z"
    }
   },
   "outputs": [],
   "source": [
    "import numpy as np # linear algebra\n",
    "import pandas as pd # data processing, CSV file I/O (e.g. pd.read_csv)\n"
   ]
  },
  {
   "cell_type": "markdown",
   "metadata": {},
   "source": [
    "### load needed libraries"
   ]
  },
  {
   "cell_type": "code",
   "execution_count": 2,
   "metadata": {},
   "outputs": [
    {
     "name": "stderr",
     "output_type": "stream",
     "text": [
      "[nltk_data] Downloading package stopwords to C:\\Users\\Avishek\n",
      "[nltk_data]     kumar\\AppData\\Roaming\\nltk_data...\n",
      "[nltk_data]   Package stopwords is already up-to-date!\n"
     ]
    },
    {
     "data": {
      "text/plain": [
       "True"
      ]
     },
     "execution_count": 2,
     "metadata": {},
     "output_type": "execute_result"
    }
   ],
   "source": [
    "import nltk\n",
    "nltk.download('stopwords')"
   ]
  },
  {
   "cell_type": "code",
   "execution_count": 3,
   "metadata": {
    "execution": {
     "iopub.execute_input": "2024-04-11T13:47:45.821671Z",
     "iopub.status.busy": "2024-04-11T13:47:45.820967Z",
     "iopub.status.idle": "2024-04-11T13:47:52.648351Z",
     "shell.execute_reply": "2024-04-11T13:47:52.647649Z",
     "shell.execute_reply.started": "2024-04-11T13:47:45.821633Z"
    }
   },
   "outputs": [],
   "source": [
    "import os\n",
    "import numpy as np\n",
    "import pandas as pd\n",
    "import seaborn as sns\n",
    "import matplotlib.pyplot as plt\n",
    "from nltk.corpus import stopwords\n",
    "from nltk.stem import WordNetLemmatizer\n",
    "from nltk.tokenize import word_tokenize\n",
    "from wordcloud import WordCloud,STOPWORDS\n",
    "from bs4 import BeautifulSoup\n",
    "import re,string,unicodedata\n",
    "import os\n",
    "from IPython.display import Image\n",
    "\n",
    "from sklearn.feature_extraction.text import CountVectorizer, TfidfVectorizer\n",
    "from sklearn.linear_model import LogisticRegression\n",
    "from sklearn.svm import LinearSVC\n",
    "from sklearn.ensemble import GradientBoostingClassifier\n",
    "from sklearn.naive_bayes import GaussianNB, MultinomialNB\n",
    "from sklearn.model_selection import train_test_split\n",
    "from sklearn.metrics import classification_report, accuracy_score, confusion_matrix, plot_confusion_matrix, plot_roc_curve, plot_precision_recall_curve\n",
    "#from xgboost.sklearn import XGBClassifier\n",
    "\n",
    "import tensorflow as tf\n",
    "from tensorflow.keras.preprocessing.text import Tokenizer\n",
    "from tensorflow.keras.preprocessing.sequence import pad_sequences\n",
    "from tensorflow.keras.callbacks import ModelCheckpoint\n",
    "from tensorflow.keras.layers import Dense,Input, Embedding,LSTM,Dropout,Conv1D, MaxPooling1D, GlobalMaxPooling1D,Dropout,Bidirectional,Flatten,BatchNormalization\n",
    "from tensorflow.keras.callbacks import EarlyStopping\n",
    "from tensorflow.keras.models import Model\n",
    "from tensorflow.keras.optimizers import Adam\n",
    "from tensorflow.keras.utils import plot_model\n",
    "#import transformers\n",
    "#import tokenizers"
   ]
  },
  {
   "cell_type": "markdown",
   "metadata": {},
   "source": [
    "### load our data"
   ]
  },
  {
   "cell_type": "code",
   "execution_count": 4,
   "metadata": {
    "execution": {
     "iopub.execute_input": "2024-04-11T13:47:52.650796Z",
     "iopub.status.busy": "2024-04-11T13:47:52.650547Z",
     "iopub.status.idle": "2024-04-11T13:47:54.034347Z",
     "shell.execute_reply": "2024-04-11T13:47:54.033713Z",
     "shell.execute_reply.started": "2024-04-11T13:47:52.650766Z"
    }
   },
   "outputs": [],
   "source": [
    "data = pd.read_csv('Corona_NLP_train.csv', encoding = 'latin-1')"
   ]
  },
  {
   "cell_type": "markdown",
   "metadata": {},
   "source": [
    "### Data preprocessing"
   ]
  },
  {
   "cell_type": "code",
   "execution_count": 5,
   "metadata": {
    "execution": {
     "iopub.execute_input": "2024-04-11T13:47:54.035568Z",
     "iopub.status.busy": "2024-04-11T13:47:54.035356Z",
     "iopub.status.idle": "2024-04-11T13:47:54.052127Z",
     "shell.execute_reply": "2024-04-11T13:47:54.051406Z",
     "shell.execute_reply.started": "2024-04-11T13:47:54.035541Z"
    }
   },
   "outputs": [],
   "source": [
    "data['sentiment']=data['Sentiment']"
   ]
  },
  {
   "cell_type": "code",
   "execution_count": 6,
   "metadata": {
    "execution": {
     "iopub.execute_input": "2024-04-11T13:47:54.054447Z",
     "iopub.status.busy": "2024-04-11T13:47:54.054085Z",
     "iopub.status.idle": "2024-04-11T13:47:54.059594Z",
     "shell.execute_reply": "2024-04-11T13:47:54.058872Z",
     "shell.execute_reply.started": "2024-04-11T13:47:54.054408Z"
    }
   },
   "outputs": [],
   "source": [
    "data['review']=data['OriginalTweet']"
   ]
  },
  {
   "cell_type": "code",
   "execution_count": 7,
   "metadata": {},
   "outputs": [
    {
     "data": {
      "text/html": [
       "<div>\n",
       "<style scoped>\n",
       "    .dataframe tbody tr th:only-of-type {\n",
       "        vertical-align: middle;\n",
       "    }\n",
       "\n",
       "    .dataframe tbody tr th {\n",
       "        vertical-align: top;\n",
       "    }\n",
       "\n",
       "    .dataframe thead th {\n",
       "        text-align: right;\n",
       "    }\n",
       "</style>\n",
       "<table border=\"1\" class=\"dataframe\">\n",
       "  <thead>\n",
       "    <tr style=\"text-align: right;\">\n",
       "      <th></th>\n",
       "      <th>UserName</th>\n",
       "      <th>ScreenName</th>\n",
       "      <th>Location</th>\n",
       "      <th>TweetAt</th>\n",
       "      <th>OriginalTweet</th>\n",
       "      <th>Sentiment</th>\n",
       "      <th>sentiment</th>\n",
       "      <th>review</th>\n",
       "    </tr>\n",
       "  </thead>\n",
       "  <tbody>\n",
       "    <tr>\n",
       "      <th>0</th>\n",
       "      <td>3799</td>\n",
       "      <td>48751</td>\n",
       "      <td>London</td>\n",
       "      <td>16-03-2020</td>\n",
       "      <td>@MeNyrbie @Phil_Gahan @Chrisitv https://t.co/i...</td>\n",
       "      <td>Neutral</td>\n",
       "      <td>Neutral</td>\n",
       "      <td>@MeNyrbie @Phil_Gahan @Chrisitv https://t.co/i...</td>\n",
       "    </tr>\n",
       "    <tr>\n",
       "      <th>1</th>\n",
       "      <td>3800</td>\n",
       "      <td>48752</td>\n",
       "      <td>UK</td>\n",
       "      <td>16-03-2020</td>\n",
       "      <td>advice Talk to your neighbours family to excha...</td>\n",
       "      <td>Positive</td>\n",
       "      <td>Positive</td>\n",
       "      <td>advice Talk to your neighbours family to excha...</td>\n",
       "    </tr>\n",
       "    <tr>\n",
       "      <th>2</th>\n",
       "      <td>3801</td>\n",
       "      <td>48753</td>\n",
       "      <td>Vagabonds</td>\n",
       "      <td>16-03-2020</td>\n",
       "      <td>Coronavirus Australia: Woolworths to give elde...</td>\n",
       "      <td>Positive</td>\n",
       "      <td>Positive</td>\n",
       "      <td>Coronavirus Australia: Woolworths to give elde...</td>\n",
       "    </tr>\n",
       "    <tr>\n",
       "      <th>3</th>\n",
       "      <td>3802</td>\n",
       "      <td>48754</td>\n",
       "      <td>NaN</td>\n",
       "      <td>16-03-2020</td>\n",
       "      <td>My food stock is not the only one which is emp...</td>\n",
       "      <td>Positive</td>\n",
       "      <td>Positive</td>\n",
       "      <td>My food stock is not the only one which is emp...</td>\n",
       "    </tr>\n",
       "    <tr>\n",
       "      <th>4</th>\n",
       "      <td>3803</td>\n",
       "      <td>48755</td>\n",
       "      <td>NaN</td>\n",
       "      <td>16-03-2020</td>\n",
       "      <td>Me, ready to go at supermarket during the #COV...</td>\n",
       "      <td>Extremely Negative</td>\n",
       "      <td>Extremely Negative</td>\n",
       "      <td>Me, ready to go at supermarket during the #COV...</td>\n",
       "    </tr>\n",
       "  </tbody>\n",
       "</table>\n",
       "</div>"
      ],
      "text/plain": [
       "   UserName  ScreenName   Location     TweetAt  \\\n",
       "0      3799       48751     London  16-03-2020   \n",
       "1      3800       48752         UK  16-03-2020   \n",
       "2      3801       48753  Vagabonds  16-03-2020   \n",
       "3      3802       48754        NaN  16-03-2020   \n",
       "4      3803       48755        NaN  16-03-2020   \n",
       "\n",
       "                                       OriginalTweet           Sentiment  \\\n",
       "0  @MeNyrbie @Phil_Gahan @Chrisitv https://t.co/i...             Neutral   \n",
       "1  advice Talk to your neighbours family to excha...            Positive   \n",
       "2  Coronavirus Australia: Woolworths to give elde...            Positive   \n",
       "3  My food stock is not the only one which is emp...            Positive   \n",
       "4  Me, ready to go at supermarket during the #COV...  Extremely Negative   \n",
       "\n",
       "            sentiment                                             review  \n",
       "0             Neutral  @MeNyrbie @Phil_Gahan @Chrisitv https://t.co/i...  \n",
       "1            Positive  advice Talk to your neighbours family to excha...  \n",
       "2            Positive  Coronavirus Australia: Woolworths to give elde...  \n",
       "3            Positive  My food stock is not the only one which is emp...  \n",
       "4  Extremely Negative  Me, ready to go at supermarket during the #COV...  "
      ]
     },
     "execution_count": 7,
     "metadata": {},
     "output_type": "execute_result"
    }
   ],
   "source": [
    "data.head()"
   ]
  },
  {
   "cell_type": "code",
   "execution_count": 8,
   "metadata": {
    "execution": {
     "iopub.execute_input": "2024-04-11T13:47:54.061546Z",
     "iopub.status.busy": "2024-04-11T13:47:54.060892Z",
     "iopub.status.idle": "2024-04-11T13:47:54.096924Z",
     "shell.execute_reply": "2024-04-11T13:47:54.096266Z",
     "shell.execute_reply.started": "2024-04-11T13:47:54.061515Z"
    }
   },
   "outputs": [
    {
     "name": "stdout",
     "output_type": "stream",
     "text": [
      "<class 'pandas.core.frame.DataFrame'>\n",
      "RangeIndex: 41157 entries, 0 to 41156\n",
      "Data columns (total 8 columns):\n",
      " #   Column         Non-Null Count  Dtype \n",
      "---  ------         --------------  ----- \n",
      " 0   UserName       41157 non-null  int64 \n",
      " 1   ScreenName     41157 non-null  int64 \n",
      " 2   Location       32567 non-null  object\n",
      " 3   TweetAt        41157 non-null  object\n",
      " 4   OriginalTweet  41157 non-null  object\n",
      " 5   Sentiment      41157 non-null  object\n",
      " 6   sentiment      41157 non-null  object\n",
      " 7   review         41157 non-null  object\n",
      "dtypes: int64(2), object(6)\n",
      "memory usage: 2.5+ MB\n"
     ]
    }
   ],
   "source": [
    "data.info()"
   ]
  },
  {
   "cell_type": "code",
   "execution_count": 9,
   "metadata": {
    "execution": {
     "iopub.execute_input": "2024-04-11T13:47:54.098133Z",
     "iopub.status.busy": "2024-04-11T13:47:54.097921Z",
     "iopub.status.idle": "2024-04-11T13:47:54.193330Z",
     "shell.execute_reply": "2024-04-11T13:47:54.192599Z",
     "shell.execute_reply.started": "2024-04-11T13:47:54.098108Z"
    }
   },
   "outputs": [
    {
     "data": {
      "text/html": [
       "<div>\n",
       "<style scoped>\n",
       "    .dataframe tbody tr th:only-of-type {\n",
       "        vertical-align: middle;\n",
       "    }\n",
       "\n",
       "    .dataframe tbody tr th {\n",
       "        vertical-align: top;\n",
       "    }\n",
       "\n",
       "    .dataframe thead th {\n",
       "        text-align: right;\n",
       "    }\n",
       "</style>\n",
       "<table border=\"1\" class=\"dataframe\">\n",
       "  <thead>\n",
       "    <tr style=\"text-align: right;\">\n",
       "      <th></th>\n",
       "      <th>UserName</th>\n",
       "      <th>ScreenName</th>\n",
       "    </tr>\n",
       "  </thead>\n",
       "  <tbody>\n",
       "    <tr>\n",
       "      <th>count</th>\n",
       "      <td>41157.000000</td>\n",
       "      <td>41157.000000</td>\n",
       "    </tr>\n",
       "    <tr>\n",
       "      <th>mean</th>\n",
       "      <td>24377.000000</td>\n",
       "      <td>69329.000000</td>\n",
       "    </tr>\n",
       "    <tr>\n",
       "      <th>std</th>\n",
       "      <td>11881.146851</td>\n",
       "      <td>11881.146851</td>\n",
       "    </tr>\n",
       "    <tr>\n",
       "      <th>min</th>\n",
       "      <td>3799.000000</td>\n",
       "      <td>48751.000000</td>\n",
       "    </tr>\n",
       "    <tr>\n",
       "      <th>25%</th>\n",
       "      <td>14088.000000</td>\n",
       "      <td>59040.000000</td>\n",
       "    </tr>\n",
       "    <tr>\n",
       "      <th>50%</th>\n",
       "      <td>24377.000000</td>\n",
       "      <td>69329.000000</td>\n",
       "    </tr>\n",
       "    <tr>\n",
       "      <th>75%</th>\n",
       "      <td>34666.000000</td>\n",
       "      <td>79618.000000</td>\n",
       "    </tr>\n",
       "    <tr>\n",
       "      <th>max</th>\n",
       "      <td>44955.000000</td>\n",
       "      <td>89907.000000</td>\n",
       "    </tr>\n",
       "  </tbody>\n",
       "</table>\n",
       "</div>"
      ],
      "text/plain": [
       "           UserName    ScreenName\n",
       "count  41157.000000  41157.000000\n",
       "mean   24377.000000  69329.000000\n",
       "std    11881.146851  11881.146851\n",
       "min     3799.000000  48751.000000\n",
       "25%    14088.000000  59040.000000\n",
       "50%    24377.000000  69329.000000\n",
       "75%    34666.000000  79618.000000\n",
       "max    44955.000000  89907.000000"
      ]
     },
     "execution_count": 9,
     "metadata": {},
     "output_type": "execute_result"
    }
   ],
   "source": [
    "data.describe()"
   ]
  },
  {
   "cell_type": "code",
   "execution_count": 10,
   "metadata": {
    "execution": {
     "iopub.execute_input": "2024-04-11T13:47:54.194771Z",
     "iopub.status.busy": "2024-04-11T13:47:54.194469Z",
     "iopub.status.idle": "2024-04-11T13:47:54.207086Z",
     "shell.execute_reply": "2024-04-11T13:47:54.206392Z",
     "shell.execute_reply.started": "2024-04-11T13:47:54.194732Z"
    }
   },
   "outputs": [
    {
     "data": {
      "text/plain": [
       "Positive              11422\n",
       "Negative               9917\n",
       "Neutral                7713\n",
       "Extremely Positive     6624\n",
       "Extremely Negative     5481\n",
       "Name: sentiment, dtype: int64"
      ]
     },
     "execution_count": 10,
     "metadata": {},
     "output_type": "execute_result"
    }
   ],
   "source": [
    "data['sentiment'].value_counts()"
   ]
  },
  {
   "cell_type": "code",
   "execution_count": 11,
   "metadata": {},
   "outputs": [],
   "source": [
    "df=data.copy()"
   ]
  },
  {
   "cell_type": "markdown",
   "metadata": {},
   "source": [
    "### Data Cleaning"
   ]
  },
  {
   "cell_type": "code",
   "execution_count": 12,
   "metadata": {
    "execution": {
     "iopub.execute_input": "2024-04-11T13:47:54.208787Z",
     "iopub.status.busy": "2024-04-11T13:47:54.208398Z",
     "iopub.status.idle": "2024-04-11T13:47:54.231562Z",
     "shell.execute_reply": "2024-04-11T13:47:54.230837Z",
     "shell.execute_reply.started": "2024-04-11T13:47:54.208754Z"
    }
   },
   "outputs": [
    {
     "data": {
      "text/plain": [
       "UserName            0\n",
       "ScreenName          0\n",
       "Location         8590\n",
       "TweetAt             0\n",
       "OriginalTweet       0\n",
       "Sentiment           0\n",
       "sentiment           0\n",
       "review              0\n",
       "dtype: int64"
      ]
     },
     "execution_count": 12,
     "metadata": {},
     "output_type": "execute_result"
    }
   ],
   "source": [
    "data.isnull().sum()"
   ]
  },
  {
   "cell_type": "code",
   "execution_count": 13,
   "metadata": {
    "execution": {
     "iopub.execute_input": "2024-04-11T13:47:54.233249Z",
     "iopub.status.busy": "2024-04-11T13:47:54.232527Z",
     "iopub.status.idle": "2024-04-11T13:47:54.408032Z",
     "shell.execute_reply": "2024-04-11T13:47:54.407266Z",
     "shell.execute_reply.started": "2024-04-11T13:47:54.233209Z"
    }
   },
   "outputs": [
    {
     "data": {
      "text/plain": [
       "0"
      ]
     },
     "execution_count": 13,
     "metadata": {},
     "output_type": "execute_result"
    }
   ],
   "source": [
    " data.duplicated().sum()"
   ]
  },
  {
   "cell_type": "code",
   "execution_count": 14,
   "metadata": {
    "execution": {
     "iopub.execute_input": "2024-04-11T13:47:54.410578Z",
     "iopub.status.busy": "2024-04-11T13:47:54.410351Z",
     "iopub.status.idle": "2024-04-11T13:47:54.566061Z",
     "shell.execute_reply": "2024-04-11T13:47:54.565442Z",
     "shell.execute_reply.started": "2024-04-11T13:47:54.410550Z"
    }
   },
   "outputs": [],
   "source": [
    "data.drop_duplicates(inplace = True)"
   ]
  },
  {
   "cell_type": "code",
   "execution_count": 15,
   "metadata": {
    "execution": {
     "iopub.execute_input": "2024-04-11T13:47:54.567542Z",
     "iopub.status.busy": "2024-04-11T13:47:54.567257Z",
     "iopub.status.idle": "2024-04-11T13:47:54.573502Z",
     "shell.execute_reply": "2024-04-11T13:47:54.572797Z",
     "shell.execute_reply.started": "2024-04-11T13:47:54.567504Z"
    }
   },
   "outputs": [
    {
     "data": {
      "text/plain": [
       "(41157, 8)"
      ]
     },
     "execution_count": 15,
     "metadata": {},
     "output_type": "execute_result"
    }
   ],
   "source": [
    "data.shape"
   ]
  },
  {
   "cell_type": "code",
   "execution_count": 16,
   "metadata": {
    "execution": {
     "iopub.execute_input": "2024-04-11T13:47:54.574945Z",
     "iopub.status.busy": "2024-04-11T13:47:54.574632Z",
     "iopub.status.idle": "2024-04-11T13:47:54.588064Z",
     "shell.execute_reply": "2024-04-11T13:47:54.587274Z",
     "shell.execute_reply.started": "2024-04-11T13:47:54.574911Z"
    }
   },
   "outputs": [],
   "source": [
    "stop = stopwords.words('english')\n",
    "wl = WordNetLemmatizer()"
   ]
  },
  {
   "cell_type": "code",
   "execution_count": 17,
   "metadata": {},
   "outputs": [
    {
     "name": "stderr",
     "output_type": "stream",
     "text": [
      "[nltk_data] Downloading package wordnet to C:\\Users\\Avishek\n",
      "[nltk_data]     kumar\\AppData\\Roaming\\nltk_data...\n",
      "[nltk_data]   Package wordnet is already up-to-date!\n"
     ]
    },
    {
     "data": {
      "text/plain": [
       "True"
      ]
     },
     "execution_count": 17,
     "metadata": {},
     "output_type": "execute_result"
    }
   ],
   "source": [
    "nltk.download('wordnet')"
   ]
  },
  {
   "cell_type": "code",
   "execution_count": 18,
   "metadata": {
    "execution": {
     "iopub.execute_input": "2024-04-11T13:47:54.589721Z",
     "iopub.status.busy": "2024-04-11T13:47:54.589489Z",
     "iopub.status.idle": "2024-04-11T13:47:54.604393Z",
     "shell.execute_reply": "2024-04-11T13:47:54.603728Z",
     "shell.execute_reply.started": "2024-04-11T13:47:54.589678Z"
    }
   },
   "outputs": [],
   "source": [
    "mapping = {\"ain't\": \"is not\", \"aren't\": \"are not\",\"can't\": \"cannot\", \n",
    "           \"'cause\": \"because\", \"could've\": \"could have\", \"couldn't\": \"could not\", \n",
    "           \"didn't\": \"did not\",  \"doesn't\": \"does not\", \"don't\": \"do not\", \"hadn't\": \"had not\", \n",
    "           \"hasn't\": \"has not\", \"haven't\": \"have not\", \"he'd\": \"he would\",\"he'll\": \"he will\", \n",
    "           \"he's\": \"he is\", \"how'd\": \"how did\", \"how'd'y\": \"how do you\", \"how'll\": \"how will\", \n",
    "           \"how's\": \"how is\",  \"I'd\": \"I would\", \"I'd've\": \"I would have\", \"I'll\": \"I will\", \n",
    "           \"I'll've\": \"I will have\",\"I'm\": \"I am\", \"I've\": \"I have\", \"i'd\": \"i would\", \n",
    "           \"i'd've\": \"i would have\", \"i'll\": \"i will\",  \"i'll've\": \"i will have\",\n",
    "           \"i'm\": \"i am\", \"i've\": \"i have\", \"isn't\": \"is not\", \"it'd\": \"it would\", \n",
    "           \"it'd've\": \"it would have\", \"it'll\": \"it will\", \"it'll've\": \"it will have\",\n",
    "           \"it's\": \"it is\", \"let's\": \"let us\", \"ma'am\": \"madam\", \"mayn't\": \"may not\", \n",
    "           \"might've\": \"might have\",\"mightn't\": \"might not\",\"mightn't've\": \"might not have\", \n",
    "           \"must've\": \"must have\", \"mustn't\": \"must not\", \"mustn't've\": \"must not have\", \n",
    "           \"needn't\": \"need not\", \"needn't've\": \"need not have\",\"o'clock\": \"of the clock\", \n",
    "           \"oughtn't\": \"ought not\", \"oughtn't've\": \"ought not have\", \"shan't\": \"shall not\", \n",
    "           \"sha'n't\": \"shall not\", \"shan't've\": \"shall not have\", \"she'd\": \"she would\", \n",
    "           \"she'd've\": \"she would have\", \"she'll\": \"she will\", \"she'll've\": \"she will have\", \n",
    "           \"she's\": \"she is\", \"should've\": \"should have\", \"shouldn't\": \"should not\", \n",
    "           \"shouldn't've\": \"should not have\", \"so've\": \"so have\",\"so's\": \"so as\", \"this's\": \"this is\",\n",
    "           \"that'd\": \"that would\", \"that'd've\": \"that would have\", \"that's\": \"that is\", \n",
    "           \"there'd\": \"there would\", \"there'd've\": \"there would have\", \"there's\": \"there is\", \n",
    "           \"here's\": \"here is\",\"they'd\": \"they would\", \"they'd've\": \"they would have\", \n",
    "           \"they'll\": \"they will\", \"they'll've\": \"they will have\", \"they're\": \"they are\", \n",
    "           \"they've\": \"they have\", \"to've\": \"to have\", \"wasn't\": \"was not\", \"we'd\": \"we would\", \n",
    "           \"we'd've\": \"we would have\", \"we'll\": \"we will\", \"we'll've\": \"we will have\", \n",
    "           \"we're\": \"we are\", \"we've\": \"we have\", \"weren't\": \"were not\", \n",
    "           \"what'll\": \"what will\", \"what'll've\": \"what will have\",\"what're\": \"what are\",  \n",
    "           \"what's\": \"what is\", \"what've\": \"what have\", \"when's\": \"when is\", \"when've\": \"when have\", \n",
    "           \"where'd\": \"where did\", \"where's\": \"where is\", \"where've\": \"where have\", \"who'll\": \"who will\", \n",
    "           \"who'll've\": \"who will have\", \"who's\": \"who is\", \"who've\": \"who have\", \"why's\": \"why is\", \n",
    "           \"why've\": \"why have\", \"will've\": \"will have\", \"won't\": \"will not\", \"won't've\": \"will not have\", \n",
    "           \"would've\": \"would have\", \"wouldn't\": \"would not\", \"wouldn't've\": \"would not have\", \n",
    "           \"y'all\": \"you all\", \"y'all'd\": \"you all would\",\"y'all'd've\": \"you all would have\",\n",
    "           \"y'all're\": \"you all are\",\"y'all've\": \"you all have\",\"you'd\": \"you would\", \n",
    "           \"you'd've\": \"you would have\", \"you'll\": \"you will\", \"you'll've\": \"you will have\", \n",
    "           \"you're\": \"you are\", \"you've\": \"you have\" }"
   ]
  },
  {
   "cell_type": "code",
   "execution_count": 19,
   "metadata": {
    "execution": {
     "iopub.execute_input": "2024-04-11T13:47:54.605579Z",
     "iopub.status.busy": "2024-04-11T13:47:54.605382Z",
     "iopub.status.idle": "2024-04-11T13:47:54.745734Z",
     "shell.execute_reply": "2024-04-11T13:47:54.744932Z",
     "shell.execute_reply.started": "2024-04-11T13:47:54.605554Z"
    }
   },
   "outputs": [],
   "source": [
    "#function to clean data\n",
    "\n",
    "\n",
    "def clean_text(text,lemmatize = True):\n",
    "    soup = BeautifulSoup(text, \"html.parser\") #remove html tags\n",
    "    text = soup.get_text()\n",
    "    text = ' '.join([mapping[t] if t in mapping else t for t in text.split(\" \")]) #expanding chatwords and contracts clearing contractions\n",
    "    emoji_clean= re.compile(\"[\"\n",
    "                           u\"\\U0001F600-\\U0001F64F\"  # emoticons\n",
    "                           u\"\\U0001F300-\\U0001F5FF\"  # symbols & pictographs\n",
    "                           u\"\\U0001F680-\\U0001F6FF\"  # transport & map symbols\n",
    "                           u\"\\U0001F1E0-\\U0001F1FF\"  # flags (iOS)\n",
    "                           u\"\\U00002702-\\U000027B0\"\n",
    "                           u\"\\U000024C2-\\U0001F251\"\n",
    "                           \"]+\", flags=re.UNICODE)\n",
    "    text = emoji_clean.sub(r'',text)\n",
    "    text = re.sub(r'\\.(?=\\S)', '. ',text) #add space after full stop\n",
    "    text = re.sub(r'http\\S+', '', text) #remove urls\n",
    "    text = \"\".join([word.lower() for word in text if word not in string.punctuation]) #remove punctuation\n",
    "    #tokens = re.split('\\W+', text) #create tokens\n",
    "    if lemmatize:\n",
    "        text = \" \".join([wl.lemmatize(word) for word in text.split() if word not in stop and word.isalpha()]) #lemmatize\n",
    "    else:\n",
    "        text = \" \".join([word for word in text.split() if word not in stop and word.isalpha()]) \n",
    "    return text"
   ]
  },
  {
   "cell_type": "code",
   "execution_count": 20,
   "metadata": {
    "execution": {
     "iopub.execute_input": "2024-04-11T13:47:54.747088Z",
     "iopub.status.busy": "2024-04-11T13:47:54.746865Z",
     "iopub.status.idle": "2024-04-11T13:49:30.216872Z",
     "shell.execute_reply": "2024-04-11T13:49:30.216196Z",
     "shell.execute_reply.started": "2024-04-11T13:47:54.747061Z"
    }
   },
   "outputs": [
    {
     "name": "stderr",
     "output_type": "stream",
     "text": [
      "c:\\users\\avishek kumar\\appdata\\local\\programs\\python\\python39\\lib\\site-packages\\bs4\\__init__.py:435: MarkupResemblesLocatorWarning: The input looks more like a filename than markup. You may want to open this file and pass the filehandle into Beautiful Soup.\n",
      "  warnings.warn(\n",
      "c:\\users\\avishek kumar\\appdata\\local\\programs\\python\\python39\\lib\\site-packages\\bs4\\__init__.py:404: MarkupResemblesLocatorWarning: The input looks more like a URL than markup. You may want to use an HTTP client like requests to get the document behind the URL, and feed that document to Beautiful Soup.\n",
      "  warnings.warn(\n"
     ]
    }
   ],
   "source": [
    "data['review']=data['review'].apply(clean_text,lemmatize = True)"
   ]
  },
  {
   "cell_type": "code",
   "execution_count": 21,
   "metadata": {},
   "outputs": [],
   "source": [
    "# Function to convert score to sentiment\n",
    "def to_sentiment(rating):\n",
    "    \n",
    "    if(rating=='Neutral'):\n",
    "        return 2\n",
    "    elif rating=='Positive':\n",
    "        return 3\n",
    "    elif rating=='Extremely Positive':\n",
    "        return 4\n",
    "    elif rating=='Negative':\n",
    "        return 1\n",
    "    elif rating=='Extremely Negative':\n",
    "        return 0\n"
   ]
  },
  {
   "cell_type": "code",
   "execution_count": 22,
   "metadata": {
    "execution": {
     "iopub.execute_input": "2024-04-11T13:49:30.218082Z",
     "iopub.status.busy": "2024-04-11T13:49:30.217883Z",
     "iopub.status.idle": "2024-04-11T13:49:30.262852Z",
     "shell.execute_reply": "2024-04-11T13:49:30.262091Z",
     "shell.execute_reply.started": "2024-04-11T13:49:30.218057Z"
    }
   },
   "outputs": [
    {
     "data": {
      "text/html": [
       "<div>\n",
       "<style scoped>\n",
       "    .dataframe tbody tr th:only-of-type {\n",
       "        vertical-align: middle;\n",
       "    }\n",
       "\n",
       "    .dataframe tbody tr th {\n",
       "        vertical-align: top;\n",
       "    }\n",
       "\n",
       "    .dataframe thead th {\n",
       "        text-align: right;\n",
       "    }\n",
       "</style>\n",
       "<table border=\"1\" class=\"dataframe\">\n",
       "  <thead>\n",
       "    <tr style=\"text-align: right;\">\n",
       "      <th></th>\n",
       "      <th>UserName</th>\n",
       "      <th>ScreenName</th>\n",
       "      <th>Location</th>\n",
       "      <th>TweetAt</th>\n",
       "      <th>OriginalTweet</th>\n",
       "      <th>Sentiment</th>\n",
       "      <th>sentiment</th>\n",
       "      <th>review</th>\n",
       "    </tr>\n",
       "  </thead>\n",
       "  <tbody>\n",
       "    <tr>\n",
       "      <th>0</th>\n",
       "      <td>3799</td>\n",
       "      <td>48751</td>\n",
       "      <td>London</td>\n",
       "      <td>16-03-2020</td>\n",
       "      <td>@MeNyrbie @Phil_Gahan @Chrisitv https://t.co/i...</td>\n",
       "      <td>Neutral</td>\n",
       "      <td>2</td>\n",
       "      <td>menyrbie philgahan chrisitv</td>\n",
       "    </tr>\n",
       "    <tr>\n",
       "      <th>1</th>\n",
       "      <td>3800</td>\n",
       "      <td>48752</td>\n",
       "      <td>UK</td>\n",
       "      <td>16-03-2020</td>\n",
       "      <td>advice Talk to your neighbours family to excha...</td>\n",
       "      <td>Positive</td>\n",
       "      <td>3</td>\n",
       "      <td>advice talk neighbour family exchange phone nu...</td>\n",
       "    </tr>\n",
       "    <tr>\n",
       "      <th>2</th>\n",
       "      <td>3801</td>\n",
       "      <td>48753</td>\n",
       "      <td>Vagabonds</td>\n",
       "      <td>16-03-2020</td>\n",
       "      <td>Coronavirus Australia: Woolworths to give elde...</td>\n",
       "      <td>Positive</td>\n",
       "      <td>3</td>\n",
       "      <td>coronavirus australia woolworth give elderly d...</td>\n",
       "    </tr>\n",
       "    <tr>\n",
       "      <th>3</th>\n",
       "      <td>3802</td>\n",
       "      <td>48754</td>\n",
       "      <td>NaN</td>\n",
       "      <td>16-03-2020</td>\n",
       "      <td>My food stock is not the only one which is emp...</td>\n",
       "      <td>Positive</td>\n",
       "      <td>3</td>\n",
       "      <td>food stock one empty please panic enough food ...</td>\n",
       "    </tr>\n",
       "    <tr>\n",
       "      <th>4</th>\n",
       "      <td>3803</td>\n",
       "      <td>48755</td>\n",
       "      <td>NaN</td>\n",
       "      <td>16-03-2020</td>\n",
       "      <td>Me, ready to go at supermarket during the #COV...</td>\n",
       "      <td>Extremely Negative</td>\n",
       "      <td>0</td>\n",
       "      <td>ready go supermarket outbreak paranoid food st...</td>\n",
       "    </tr>\n",
       "  </tbody>\n",
       "</table>\n",
       "</div>"
      ],
      "text/plain": [
       "   UserName  ScreenName   Location     TweetAt  \\\n",
       "0      3799       48751     London  16-03-2020   \n",
       "1      3800       48752         UK  16-03-2020   \n",
       "2      3801       48753  Vagabonds  16-03-2020   \n",
       "3      3802       48754        NaN  16-03-2020   \n",
       "4      3803       48755        NaN  16-03-2020   \n",
       "\n",
       "                                       OriginalTweet           Sentiment  \\\n",
       "0  @MeNyrbie @Phil_Gahan @Chrisitv https://t.co/i...             Neutral   \n",
       "1  advice Talk to your neighbours family to excha...            Positive   \n",
       "2  Coronavirus Australia: Woolworths to give elde...            Positive   \n",
       "3  My food stock is not the only one which is emp...            Positive   \n",
       "4  Me, ready to go at supermarket during the #COV...  Extremely Negative   \n",
       "\n",
       "   sentiment                                             review  \n",
       "0          2                        menyrbie philgahan chrisitv  \n",
       "1          3  advice talk neighbour family exchange phone nu...  \n",
       "2          3  coronavirus australia woolworth give elderly d...  \n",
       "3          3  food stock one empty please panic enough food ...  \n",
       "4          0  ready go supermarket outbreak paranoid food st...  "
      ]
     },
     "execution_count": 22,
     "metadata": {},
     "output_type": "execute_result"
    }
   ],
   "source": [
    "\n",
    "# Apply to the dataset \n",
    "data['sentiment'] = data.Sentiment.apply(to_sentiment)\n",
    "data.head()"
   ]
  },
  {
   "cell_type": "markdown",
   "metadata": {},
   "source": [
    "#### Spliting the training dataset\n"
   ]
  },
  {
   "cell_type": "code",
   "execution_count": 23,
   "metadata": {
    "execution": {
     "iopub.execute_input": "2024-04-11T13:49:30.264332Z",
     "iopub.status.busy": "2024-04-11T13:49:30.264056Z",
     "iopub.status.idle": "2024-04-11T13:49:30.283054Z",
     "shell.execute_reply": "2024-04-11T13:49:30.282349Z",
     "shell.execute_reply.started": "2024-04-11T13:49:30.264293Z"
    }
   },
   "outputs": [
    {
     "name": "stdout",
     "output_type": "stream",
     "text": [
      "(32925,) (32925,)\n",
      "(8232,) (8232,)\n"
     ]
    }
   ],
   "source": [
    "#splitting into train and test\n",
    "train, test= train_test_split(data, test_size=0.2, random_state=42)\n",
    "\n",
    "#train dataset\n",
    "Xtrain, ytrain = train['review'], train['sentiment']\n",
    "\n",
    "#test dataset\n",
    "Xtest, ytest = test['review'], test['sentiment']\n",
    "\n",
    "print(Xtrain.shape,ytrain.shape)\n",
    "print(Xtest.shape,ytest.shape)"
   ]
  },
  {
   "cell_type": "markdown",
   "metadata": {},
   "source": [
    "#### Vectorizing data\n",
    "\n",
    "\n"
   ]
  },
  {
   "cell_type": "code",
   "execution_count": 24,
   "metadata": {
    "execution": {
     "iopub.execute_input": "2024-04-11T13:49:58.061278Z",
     "iopub.status.busy": "2024-04-11T13:49:58.060722Z",
     "iopub.status.idle": "2024-04-11T13:50:12.792294Z",
     "shell.execute_reply": "2024-04-11T13:50:12.791628Z",
     "shell.execute_reply.started": "2024-04-11T13:49:58.061242Z"
    }
   },
   "outputs": [],
   "source": [
    "vect = TfidfVectorizer()\n",
    "Xtrain_vect= vect.fit_transform(Xtrain)\n",
    "Xtest_vect = vect.transform(Xtest)\n",
    "\n",
    "\n",
    "count_vect = CountVectorizer() \n",
    "Xtrain_count = count_vect.fit_transform(Xtrain)\n",
    "Xtest_count = count_vect.transform(Xtest)"
   ]
  },
  {
   "cell_type": "markdown",
   "metadata": {},
   "source": [
    "# 1- LSTM model"
   ]
  },
  {
   "cell_type": "code",
   "execution_count": 25,
   "metadata": {
    "execution": {
     "iopub.execute_input": "2024-04-11T13:50:12.794503Z",
     "iopub.status.busy": "2024-04-11T13:50:12.793980Z",
     "iopub.status.idle": "2024-04-11T13:50:17.475266Z",
     "shell.execute_reply": "2024-04-11T13:50:17.474466Z",
     "shell.execute_reply.started": "2024-04-11T13:50:12.794461Z"
    }
   },
   "outputs": [
    {
     "name": "stdout",
     "output_type": "stream",
     "text": [
      "Vocabulary of the dataset is :  47031\n"
     ]
    }
   ],
   "source": [
    "MAX_VOCAB_SIZE = 10000\n",
    "tokenizer = Tokenizer(num_words = MAX_VOCAB_SIZE,oov_token=\"<oov>\")\n",
    "tokenizer.fit_on_texts(Xtrain)\n",
    "word_index = tokenizer.word_index\n",
    "#print(word_index)\n",
    "V = len(word_index)\n",
    "print(\"Vocabulary of the dataset is : \",V)"
   ]
  },
  {
   "cell_type": "code",
   "execution_count": 26,
   "metadata": {
    "execution": {
     "iopub.execute_input": "2024-04-11T13:50:17.476514Z",
     "iopub.status.busy": "2024-04-11T13:50:17.476285Z",
     "iopub.status.idle": "2024-04-11T13:50:21.892231Z",
     "shell.execute_reply": "2024-04-11T13:50:21.891425Z",
     "shell.execute_reply.started": "2024-04-11T13:50:17.476484Z"
    }
   },
   "outputs": [],
   "source": [
    "##create sequences of reviews\n",
    "seq_train = tokenizer.texts_to_sequences(Xtrain)\n",
    "seq_test =  tokenizer.texts_to_sequences(Xtest)"
   ]
  },
  {
   "cell_type": "code",
   "execution_count": 27,
   "metadata": {
    "execution": {
     "iopub.execute_input": "2024-04-11T13:50:21.894447Z",
     "iopub.status.busy": "2024-04-11T13:50:21.894217Z",
     "iopub.status.idle": "2024-04-11T13:50:21.907642Z",
     "shell.execute_reply": "2024-04-11T13:50:21.906876Z",
     "shell.execute_reply.started": "2024-04-11T13:50:21.894417Z"
    }
   },
   "outputs": [
    {
     "name": "stdout",
     "output_type": "stream",
     "text": [
      "Maximum length of sequence in the list: 39\n"
     ]
    }
   ],
   "source": [
    "#choice of maximum length of sequences\n",
    "seq_len_list = [len(i) for i in seq_train + seq_test]\n",
    "\n",
    "#if we take the direct maximum then\n",
    "max_len=max(seq_len_list)\n",
    "print('Maximum length of sequence in the list: {}'.format(max_len))"
   ]
  },
  {
   "cell_type": "code",
   "execution_count": 28,
   "metadata": {
    "execution": {
     "iopub.execute_input": "2024-04-11T13:50:21.909023Z",
     "iopub.status.busy": "2024-04-11T13:50:21.908759Z",
     "iopub.status.idle": "2024-04-11T13:50:21.939207Z",
     "shell.execute_reply": "2024-04-11T13:50:21.938430Z",
     "shell.execute_reply.started": "2024-04-11T13:50:21.908981Z"
    }
   },
   "outputs": [
    {
     "name": "stdout",
     "output_type": "stream",
     "text": [
      "Maximum length of the sequence when considering data only two standard deviations from average: 29\n"
     ]
    }
   ],
   "source": [
    "# when setting the maximum length of sequence, variability around the average is used.\n",
    "max_seq_len = np.mean(seq_len_list) + 2 * np.std(seq_len_list)\n",
    "max_seq_len = int(max_seq_len)\n",
    "print('Maximum length of the sequence when considering data only two standard deviations from average: {}'.format(max_seq_len))"
   ]
  },
  {
   "cell_type": "code",
   "execution_count": 29,
   "metadata": {
    "execution": {
     "iopub.execute_input": "2024-04-11T13:50:21.940998Z",
     "iopub.status.busy": "2024-04-11T13:50:21.940364Z",
     "iopub.status.idle": "2024-04-11T13:50:21.960051Z",
     "shell.execute_reply": "2024-04-11T13:50:21.959294Z",
     "shell.execute_reply.started": "2024-04-11T13:50:21.940957Z"
    }
   },
   "outputs": [
    {
     "name": "stdout",
     "output_type": "stream",
     "text": [
      "The above calculated number coveres approximately 98.17 % of data\n"
     ]
    }
   ],
   "source": [
    "perc_covered = np.sum(np.array(seq_len_list) < max_seq_len) / len(seq_len_list)*100\n",
    "print('The above calculated number coveres approximately {} % of data'.format(np.round(perc_covered,2)))"
   ]
  },
  {
   "cell_type": "code",
   "execution_count": 30,
   "metadata": {
    "execution": {
     "iopub.execute_input": "2024-04-11T13:50:21.961182Z",
     "iopub.status.busy": "2024-04-11T13:50:21.960972Z",
     "iopub.status.idle": "2024-04-11T13:50:23.343627Z",
     "shell.execute_reply": "2024-04-11T13:50:23.342881Z",
     "shell.execute_reply.started": "2024-04-11T13:50:21.961157Z"
    }
   },
   "outputs": [],
   "source": [
    "#create padded sequences\n",
    "pad_train=pad_sequences(seq_train,truncating = 'post', padding = 'pre',maxlen=max_seq_len)\n",
    "pad_test=pad_sequences(seq_test,truncating = 'post', padding = 'pre',maxlen=max_seq_len)"
   ]
  },
  {
   "cell_type": "code",
   "execution_count": 31,
   "metadata": {
    "execution": {
     "iopub.execute_input": "2024-04-11T13:50:23.345048Z",
     "iopub.status.busy": "2024-04-11T13:50:23.344780Z",
     "iopub.status.idle": "2024-04-11T13:50:23.372513Z",
     "shell.execute_reply": "2024-04-11T13:50:23.371890Z",
     "shell.execute_reply.started": "2024-04-11T13:50:23.345013Z"
    }
   },
   "outputs": [],
   "source": [
    "#Splitting training set for validation purposes\n",
    "Xtrain,Xval,ytrain,yval=train_test_split(pad_train,ytrain,\n",
    "                                             test_size=0.2,random_state=10)"
   ]
  },
  {
   "cell_type": "code",
   "execution_count": 50,
   "metadata": {
    "execution": {
     "iopub.execute_input": "2024-04-11T13:50:23.373836Z",
     "iopub.status.busy": "2024-04-11T13:50:23.373597Z",
     "iopub.status.idle": "2024-04-11T13:50:23.384481Z",
     "shell.execute_reply": "2024-04-11T13:50:23.383763Z",
     "shell.execute_reply.started": "2024-04-11T13:50:23.373807Z"
    }
   },
   "outputs": [],
   "source": [
    "from tensorflow.keras.layers import Dense, Embedding, Input, LSTM, Bidirectional, Dropout, BatchNormalization\n",
    "from tensorflow.keras.models import Model\n",
    "from tensorflow.keras.optimizers import Adam\n",
    "from tensorflow.keras.callbacks import EarlyStopping\n",
    "\n",
    "def lstm_model(Xtrain, Xval, ytrain, yval, V, D, maxlen, epochs, num_classes):\n",
    "\n",
    "    print(\"----Building the model----\")\n",
    "    i = Input(shape=(maxlen,))\n",
    "    x = Embedding(V + 1, D, input_length=maxlen)(i)\n",
    "    x = BatchNormalization()(x)\n",
    "    x = Dropout(0.3)(x)\n",
    "    x = Conv1D(32, 5, activation='relu')(x)\n",
    "    x = Dropout(0.3)(x)\n",
    "    x = MaxPooling1D(2)(x)\n",
    "    x = Bidirectional(LSTM(128, return_sequences=True))(x)\n",
    "    x = LSTM(64)(x)\n",
    "    x = Dropout(0.5)(x)\n",
    "    x = Dense(num_classes, activation='softmax')(x)  # Output probabilities for each class\n",
    "    model = Model(i, x)\n",
    "    model.summary()\n",
    "\n",
    "    # Training the LSTM\n",
    "    print(\"----Training the network----\")\n",
    "    model.compile(optimizer=Adam(0.0005),\n",
    "                  loss='sparse_categorical_crossentropy',  # Use sparse_categorical_crossentropy for multi-class classification\n",
    "                  metrics=['accuracy'])\n",
    "\n",
    "    # Early stopping to prevent overfitting\n",
    "    early_stop = EarlyStopping(monitor='val_loss', patience=3, verbose=1)\n",
    "\n",
    "    r = model.fit(Xtrain, ytrain,\n",
    "                  validation_data=(Xval, yval),\n",
    "                  epochs=epochs,\n",
    "                  verbose=2,\n",
    "                  batch_size=32,\n",
    "                  callbacks=[early_stop])\n",
    "\n",
    "    print(\"Train score:\", model.evaluate(Xtrain, ytrain))\n",
    "    print(\"Validation score:\", model.evaluate(Xval, yval))\n",
    "    n_epochs = len(r.history['loss'])\n",
    "\n",
    "    return r, model, n_epochs\n"
   ]
  },
  {
   "cell_type": "code",
   "execution_count": 52,
   "metadata": {
    "execution": {
     "iopub.execute_input": "2024-04-11T13:50:23.386763Z",
     "iopub.status.busy": "2024-04-11T13:50:23.386522Z"
    }
   },
   "outputs": [
    {
     "name": "stdout",
     "output_type": "stream",
     "text": [
      "----Building the model----\n",
      "Model: \"model_1\"\n",
      "_________________________________________________________________\n",
      " Layer (type)                Output Shape              Param #   \n",
      "=================================================================\n",
      " input_2 (InputLayer)        [(None, 29)]              0         \n",
      "                                                                 \n",
      " embedding_2 (Embedding)     (None, 29, 64)            3010048   \n",
      "                                                                 \n",
      " batch_normalization_1 (Batc  (None, 29, 64)           256       \n",
      " hNormalization)                                                 \n",
      "                                                                 \n",
      " dropout_5 (Dropout)         (None, 29, 64)            0         \n",
      "                                                                 \n",
      " conv1d_3 (Conv1D)           (None, 25, 32)            10272     \n",
      "                                                                 \n",
      " dropout_6 (Dropout)         (None, 25, 32)            0         \n",
      "                                                                 \n",
      " max_pooling1d_3 (MaxPooling  (None, 12, 32)           0         \n",
      " 1D)                                                             \n",
      "                                                                 \n",
      " bidirectional_1 (Bidirectio  (None, 12, 256)          164864    \n",
      " nal)                                                            \n",
      "                                                                 \n",
      " lstm_3 (LSTM)               (None, 64)                82176     \n",
      "                                                                 \n",
      " dropout_7 (Dropout)         (None, 64)                0         \n",
      "                                                                 \n",
      " dense_3 (Dense)             (None, 5)                 325       \n",
      "                                                                 \n",
      "=================================================================\n",
      "Total params: 3,267,941\n",
      "Trainable params: 3,267,813\n",
      "Non-trainable params: 128\n",
      "_________________________________________________________________\n",
      "----Training the network----\n",
      "Epoch 1/20\n",
      "824/824 - 83s - loss: 1.3024 - accuracy: 0.4364 - val_loss: 0.9711 - val_accuracy: 0.6150 - 83s/epoch - 100ms/step\n",
      "Epoch 2/20\n",
      "824/824 - 66s - loss: 0.9221 - accuracy: 0.6461 - val_loss: 0.8771 - val_accuracy: 0.6667 - 66s/epoch - 80ms/step\n",
      "Epoch 3/20\n",
      "824/824 - 72s - loss: 0.7804 - accuracy: 0.7185 - val_loss: 0.8883 - val_accuracy: 0.6679 - 72s/epoch - 87ms/step\n",
      "Epoch 4/20\n",
      "824/824 - 75s - loss: 0.7061 - accuracy: 0.7519 - val_loss: 0.8715 - val_accuracy: 0.6796 - 75s/epoch - 91ms/step\n",
      "Epoch 5/20\n",
      "824/824 - 73s - loss: 0.6408 - accuracy: 0.7788 - val_loss: 0.8983 - val_accuracy: 0.6784 - 73s/epoch - 88ms/step\n",
      "Epoch 6/20\n",
      "824/824 - 60s - loss: 0.5868 - accuracy: 0.8008 - val_loss: 0.9241 - val_accuracy: 0.6741 - 60s/epoch - 73ms/step\n",
      "Epoch 7/20\n",
      "824/824 - 56s - loss: 0.5380 - accuracy: 0.8194 - val_loss: 0.9734 - val_accuracy: 0.6759 - 56s/epoch - 68ms/step\n",
      "Epoch 7: early stopping\n",
      "824/824 [==============================] - 9s 11ms/step - loss: 0.3360 - accuracy: 0.8983\n",
      "Train score: [0.3359553813934326, 0.8982536196708679]\n",
      "206/206 [==============================] - 2s 10ms/step - loss: 0.9734 - accuracy: 0.6759\n",
      "Validation score: [0.9733617901802063, 0.6759301424026489]\n"
     ]
    }
   ],
   "source": [
    "D = 64 #embedding dims\n",
    "epochs = 10\n",
    "r,model,n_epochs = lstm_model(Xtrain,Xval,ytrain,yval,V,D,max_seq_len,epochs,5)"
   ]
  },
  {
   "cell_type": "code",
   "execution_count": 53,
   "metadata": {},
   "outputs": [],
   "source": [
    "def plotLearningCurve(history,epochs):\n",
    "    \n",
    "    epochRange = range(1,epochs+1)\n",
    "    fig , ax = plt.subplots(1,2,figsize = (10,5))\n",
    "  \n",
    "    ax[0].plot(epochRange,history.history['accuracy'],label = 'Training Accuracy')\n",
    "    ax[0].plot(epochRange,history.history['val_accuracy'],label = 'Validation Accuracy')\n",
    "    ax[0].set_title('Training and Validation accuracy')\n",
    "    ax[0].set_xlabel('Epoch')\n",
    "    ax[0].set_ylabel('Accuracy')\n",
    "    ax[0].legend()\n",
    "    ax[1].plot(epochRange,history.history['loss'],label = 'Training Loss')\n",
    "    ax[1].plot(epochRange,history.history['val_loss'],label = 'Validation Loss')\n",
    "    ax[1].set_title('Training and Validation loss')\n",
    "    ax[1].set_xlabel('Epoch')\n",
    "    ax[1].set_ylabel('Loss')\n",
    "    ax[1].legend()\n",
    "    fig.tight_layout()\n",
    "    plt.show()"
   ]
  },
  {
   "cell_type": "code",
   "execution_count": 54,
   "metadata": {},
   "outputs": [
    {
     "data": {
      "image/png": "[encoded data removed]",
      "text/plain": [
       "<Figure size 720x360 with 2 Axes>"
      ]
     },
     "metadata": {
      "needs_background": "light"
     },
     "output_type": "display_data"
    }
   ],
   "source": [
    "plotLearningCurve(r,n_epochs)"
   ]
  },
  {
   "cell_type": "code",
   "execution_count": 55,
   "metadata": {},
   "outputs": [
    {
     "name": "stdout",
     "output_type": "stream",
     "text": [
      "Evaluate Model Performance on Test set\n",
      "258/258 [==============================] - 3s 10ms/step - loss: 0.9678 - accuracy: 0.6822\n",
      "{'loss': 0.967810869216919, 'accuracy': 0.6822157502174377}\n"
     ]
    }
   ],
   "source": [
    "print(\"Evaluate Model Performance on Test set\")\n",
    "result = model.evaluate(pad_test,ytest)\n",
    "print(dict(zip(model.metrics_names, result)))"
   ]
  },
  {
   "cell_type": "code",
   "execution_count": 57,
   "metadata": {},
   "outputs": [
    {
     "name": "stdout",
     "output_type": "stream",
     "text": [
      "258/258 [==============================] - 2s 9ms/step\n"
     ]
    },
    {
     "data": {
      "image/png": "[encoded data removed]",
      "text/plain": [
       "<Figure size 432x288 with 2 Axes>"
      ]
     },
     "metadata": {
      "needs_background": "light"
     },
     "output_type": "display_data"
    }
   ],
   "source": [
    "# Generate predictions for the test dataset\n",
    "ypred_prob = model.predict(pad_test)\n",
    "\n",
    "# Get the class with the highest probability for each sample\n",
    "ypred = np.argmax(ypred_prob, axis=1)\n",
    "\n",
    "# Get the confusion matrix\n",
    "cf_matrix = confusion_matrix(ytest, ypred)\n",
    "\n",
    "# Visualize the confusion matrix\n",
    "sns.heatmap(cf_matrix, annot=True, fmt='g', cmap='Blues')\n",
    "plt.xlabel('Predicted label')\n",
    "plt.ylabel('True label')\n",
    "plt.show()\n"
   ]
  },
  {
   "cell_type": "markdown",
   "metadata": {},
   "source": [
    "# 2-CNN model"
   ]
  },
  {
   "cell_type": "code",
   "execution_count": 58,
   "metadata": {
    "execution": {
     "iopub.execute_input": "2021-12-11T11:59:06.467111Z",
     "iopub.status.busy": "2021-12-11T11:59:06.466639Z",
     "iopub.status.idle": "2021-12-11T11:59:06.483359Z",
     "shell.execute_reply": "2021-12-11T11:59:06.481137Z",
     "shell.execute_reply.started": "2021-12-11T11:59:06.467056Z"
    }
   },
   "outputs": [],
   "source": [
    "from sklearn.metrics import classification_report, confusion_matrix, roc_curve, roc_auc_score,auc, accuracy_score\n",
    "\n",
    "from sklearn.preprocessing import StandardScaler, MinMaxScaler\n",
    "\n",
    "from sklearn.linear_model import LogisticRegression\n",
    "\n",
    "from sklearn.model_selection import train_test_split\n",
    "\n",
    "from sklearn import datasets\n",
    "\n",
    "from tensorflow.keras.preprocessing import sequence\n",
    "from sklearn.datasets import fetch_20newsgroups\n",
    "from tensorflow.keras.preprocessing.text import Tokenizer\n",
    "from tensorflow.keras.models import Sequential, Model\n",
    "from tensorflow.keras.layers import Input, Dense, Embedding, Conv1D, MaxPool1D, Dropout, SimpleRNN, LSTM\n",
    "from tensorflow.keras.layers import Flatten\n",
    "from tensorflow.keras.preprocessing import sequence\n",
    "import numpy as np\n",
    "import string\n",
    "import re"
   ]
  },
  {
   "cell_type": "code",
   "execution_count": 59,
   "metadata": {
    "execution": {
     "iopub.execute_input": "2021-12-11T11:59:06.485214Z",
     "iopub.status.busy": "2021-12-11T11:59:06.484626Z",
     "iopub.status.idle": "2021-12-11T11:59:06.526446Z",
     "shell.execute_reply": "2021-12-11T11:59:06.525579Z",
     "shell.execute_reply.started": "2021-12-11T11:59:06.485176Z"
    }
   },
   "outputs": [],
   "source": [
    "\n",
    "# Apply to the dataset \n",
    "df['sentiment'] = df.Sentiment.apply(to_sentiment)\n",
    "text = df.review.tolist()\n",
    "label = df.sentiment.tolist()"
   ]
  },
  {
   "cell_type": "code",
   "execution_count": 60,
   "metadata": {
    "execution": {
     "iopub.execute_input": "2021-12-11T11:59:06.53328Z",
     "iopub.status.busy": "2021-12-11T11:59:06.531184Z",
     "iopub.status.idle": "2021-12-11T11:59:06.601688Z",
     "shell.execute_reply": "2021-12-11T11:59:06.60082Z",
     "shell.execute_reply.started": "2021-12-11T11:59:06.53324Z"
    }
   },
   "outputs": [],
   "source": [
    "X_train, X_test, y_train, y_test = train_test_split(text, label, test_size=0.2, random_state=1)"
   ]
  },
  {
   "cell_type": "code",
   "execution_count": 61,
   "metadata": {
    "execution": {
     "iopub.execute_input": "2021-12-11T11:59:06.60857Z",
     "iopub.status.busy": "2021-12-11T11:59:06.606486Z",
     "iopub.status.idle": "2021-12-11T11:59:06.61495Z",
     "shell.execute_reply": "2021-12-11T11:59:06.614278Z",
     "shell.execute_reply.started": "2021-12-11T11:59:06.608527Z"
    }
   },
   "outputs": [],
   "source": [
    "translator = str.maketrans(string.punctuation, ' '*len(string.punctuation)) #map punctuation to space"
   ]
  },
  {
   "cell_type": "code",
   "execution_count": 62,
   "metadata": {
    "execution": {
     "iopub.execute_input": "2021-12-11T11:59:06.62192Z",
     "iopub.status.busy": "2021-12-11T11:59:06.619542Z",
     "iopub.status.idle": "2021-12-11T11:59:09.694868Z",
     "shell.execute_reply": "2021-12-11T11:59:09.694124Z",
     "shell.execute_reply.started": "2021-12-11T11:59:06.621881Z"
    }
   },
   "outputs": [],
   "source": [
    "X_train_clean = []\n",
    "X_test_clean = []\n",
    "clean = re.compile(r'<[^>]+>')\n",
    "for i, test in enumerate(X_train):\n",
    "    tmp_text = test.lower()\n",
    "    tmp_text = tmp_text.replace('\\n', '')\n",
    "    tmp_text = clean.sub('', tmp_text)\n",
    "    tmp_text = tmp_text.translate(translator)\n",
    "    X_train_clean.append(tmp_text)\n",
    "\n",
    "for i, test in enumerate(X_test):\n",
    "    tmp_text = test.lower()\n",
    "    tmp_text = tmp_text.replace('\\n', '')\n",
    "    tmp_text = clean.sub('', tmp_text)\n",
    "    tmp_text = tmp_text.translate(translator)\n",
    "    X_test_clean.append(tmp_text)\n",
    "\n",
    "X_train_clean = np.array(X_train_clean)\n",
    "X_test_clean = np.array(X_test_clean)\n",
    "\n",
    "X_train = X_train_clean\n",
    "X_test = X_test_clean"
   ]
  },
  {
   "cell_type": "code",
   "execution_count": 63,
   "metadata": {
    "execution": {
     "iopub.execute_input": "2021-12-11T11:59:09.696376Z",
     "iopub.status.busy": "2021-12-11T11:59:09.696121Z",
     "iopub.status.idle": "2021-12-11T11:59:29.360623Z",
     "shell.execute_reply": "2021-12-11T11:59:29.359788Z",
     "shell.execute_reply.started": "2021-12-11T11:59:09.696343Z"
    }
   },
   "outputs": [],
   "source": [
    "top_words = 40000\n",
    "tokenizer = Tokenizer(num_words=top_words)\n",
    "tokenizer.fit_on_texts(X_train)\n",
    "X_train = tokenizer.texts_to_sequences(X_train)\n",
    "X_test = tokenizer.texts_to_sequences(X_test)"
   ]
  },
  {
   "cell_type": "code",
   "execution_count": 64,
   "metadata": {
    "execution": {
     "iopub.execute_input": "2021-12-11T11:59:29.362733Z",
     "iopub.status.busy": "2021-12-11T11:59:29.361739Z",
     "iopub.status.idle": "2021-12-11T11:59:30.692294Z",
     "shell.execute_reply": "2021-12-11T11:59:30.691537Z",
     "shell.execute_reply.started": "2021-12-11T11:59:29.362659Z"
    }
   },
   "outputs": [],
   "source": [
    "max_words = 100\n",
    "X_train = sequence.pad_sequences(X_train, maxlen=max_words, padding='post')\n",
    "X_test = sequence.pad_sequences(X_test, maxlen=max_words, padding='post')"
   ]
  },
  {
   "cell_type": "code",
   "execution_count": 65,
   "metadata": {
    "execution": {
     "iopub.execute_input": "2021-12-11T11:59:30.694233Z",
     "iopub.status.busy": "2021-12-11T11:59:30.69396Z",
     "iopub.status.idle": "2021-12-11T11:59:30.708581Z",
     "shell.execute_reply": "2021-12-11T11:59:30.707137Z",
     "shell.execute_reply.started": "2021-12-11T11:59:30.694198Z"
    }
   },
   "outputs": [],
   "source": [
    "y_train = np.array(y_train)\n",
    "y_test = np.array(y_test)"
   ]
  },
  {
   "cell_type": "code",
   "execution_count": 66,
   "metadata": {
    "execution": {
     "iopub.execute_input": "2021-12-11T11:59:30.710445Z",
     "iopub.status.busy": "2021-12-11T11:59:30.709988Z",
     "iopub.status.idle": "2021-12-11T11:59:30.721174Z",
     "shell.execute_reply": "2021-12-11T11:59:30.720391Z",
     "shell.execute_reply.started": "2021-12-11T11:59:30.710376Z"
    }
   },
   "outputs": [
    {
     "data": {
      "text/plain": [
       "(32925, 100)"
      ]
     },
     "execution_count": 66,
     "metadata": {},
     "output_type": "execute_result"
    }
   ],
   "source": [
    "X_train.shape\n"
   ]
  },
  {
   "cell_type": "code",
   "execution_count": 87,
   "metadata": {},
   "outputs": [],
   "source": [
    "from tensorflow.keras.models import Sequential\n",
    "from tensorflow.keras.layers import Embedding, Conv1D, MaxPooling1D, Dropout, Flatten, Dense,Reshape\n"
   ]
  },
  {
   "cell_type": "code",
   "execution_count": 73,
   "metadata": {
    "execution": {
     "iopub.execute_input": "2021-12-11T11:59:30.724158Z",
     "iopub.status.busy": "2021-12-11T11:59:30.723925Z",
     "iopub.status.idle": "2021-12-11T11:59:30.79377Z",
     "shell.execute_reply": "2021-12-11T11:59:30.793082Z",
     "shell.execute_reply.started": "2021-12-11T11:59:30.724122Z"
    }
   },
   "outputs": [],
   "source": [
    "\n",
    "# Define the number of classes\n",
    "num_classes = 5\n",
    "\n",
    "model = Sequential()\n",
    "model.add(Embedding(40000, 32, input_length=100))\n",
    "model.add(Conv1D(256, 3, activation='relu', padding='same'))\n",
    "model.add(MaxPooling1D(2))\n",
    "model.add(Dropout(0.2))\n",
    "model.add(Conv1D(128, 3, activation='relu', padding='same'))\n",
    "model.add(MaxPooling1D(2))\n",
    "model.add(Dropout(0.2))\n",
    "model.add(Flatten())\n",
    "model.add(Dense(250, activation='relu'))\n",
    "model.add(Dense(num_classes, activation='softmax'))  # Output probabilities for each class\n",
    "model.compile(loss='sparse_categorical_crossentropy', optimizer='adam', metrics=['accuracy'])  # Use sparse_categorical_crossentropy for multi-class classification\n"
   ]
  },
  {
   "cell_type": "code",
   "execution_count": 74,
   "metadata": {
    "execution": {
     "iopub.execute_input": "2021-12-11T11:59:30.796405Z",
     "iopub.status.busy": "2021-12-11T11:59:30.794886Z",
     "iopub.status.idle": "2021-12-11T11:59:30.807136Z",
     "shell.execute_reply": "2021-12-11T11:59:30.806331Z",
     "shell.execute_reply.started": "2021-12-11T11:59:30.796368Z"
    }
   },
   "outputs": [
    {
     "name": "stdout",
     "output_type": "stream",
     "text": [
      "Model: \"sequential_3\"\n",
      "_________________________________________________________________\n",
      " Layer (type)                Output Shape              Param #   \n",
      "=================================================================\n",
      " embedding_5 (Embedding)     (None, 100, 32)           1280000   \n",
      "                                                                 \n",
      " conv1d_8 (Conv1D)           (None, 100, 256)          24832     \n",
      "                                                                 \n",
      " max_pooling1d_8 (MaxPooling  (None, 50, 256)          0         \n",
      " 1D)                                                             \n",
      "                                                                 \n",
      " dropout_12 (Dropout)        (None, 50, 256)           0         \n",
      "                                                                 \n",
      " conv1d_9 (Conv1D)           (None, 50, 128)           98432     \n",
      "                                                                 \n",
      " max_pooling1d_9 (MaxPooling  (None, 25, 128)          0         \n",
      " 1D)                                                             \n",
      "                                                                 \n",
      " dropout_13 (Dropout)        (None, 25, 128)           0         \n",
      "                                                                 \n",
      " flatten_3 (Flatten)         (None, 3200)              0         \n",
      "                                                                 \n",
      " dense_8 (Dense)             (None, 250)               800250    \n",
      "                                                                 \n",
      " dense_9 (Dense)             (None, 5)                 1255      \n",
      "                                                                 \n",
      "=================================================================\n",
      "Total params: 2,204,769\n",
      "Trainable params: 2,204,769\n",
      "Non-trainable params: 0\n",
      "_________________________________________________________________\n"
     ]
    }
   ],
   "source": [
    "model.summary()\n"
   ]
  },
  {
   "cell_type": "code",
   "execution_count": 75,
   "metadata": {
    "execution": {
     "iopub.execute_input": "2021-12-11T11:59:30.808781Z",
     "iopub.status.busy": "2021-12-11T11:59:30.808516Z",
     "iopub.status.idle": "2021-12-11T12:00:09.031808Z",
     "shell.execute_reply": "2021-12-11T12:00:09.031015Z",
     "shell.execute_reply.started": "2021-12-11T11:59:30.808748Z"
    }
   },
   "outputs": [
    {
     "name": "stdout",
     "output_type": "stream",
     "text": [
      "Epoch 1/20\n",
      "258/258 - 41s - loss: 1.2480 - accuracy: 0.4564 - val_loss: 0.8176 - val_accuracy: 0.6998 - 41s/epoch - 159ms/step\n",
      "Epoch 2/20\n",
      "258/258 - 39s - loss: 0.6541 - accuracy: 0.7649 - val_loss: 0.6889 - val_accuracy: 0.7555 - 39s/epoch - 151ms/step\n",
      "Epoch 3/20\n",
      "258/258 - 40s - loss: 0.4450 - accuracy: 0.8443 - val_loss: 0.6753 - val_accuracy: 0.7660 - 40s/epoch - 154ms/step\n",
      "Epoch 4/20\n",
      "258/258 - 45s - loss: 0.3250 - accuracy: 0.8888 - val_loss: 0.7257 - val_accuracy: 0.7654 - 45s/epoch - 175ms/step\n",
      "Epoch 5/20\n",
      "258/258 - 45s - loss: 0.2439 - accuracy: 0.9185 - val_loss: 0.7792 - val_accuracy: 0.7665 - 45s/epoch - 175ms/step\n",
      "Epoch 6/20\n",
      "258/258 - 45s - loss: 0.1862 - accuracy: 0.9345 - val_loss: 1.0510 - val_accuracy: 0.7351 - 45s/epoch - 176ms/step\n",
      "Epoch 7/20\n",
      "258/258 - 45s - loss: 0.1486 - accuracy: 0.9493 - val_loss: 0.9819 - val_accuracy: 0.7578 - 45s/epoch - 175ms/step\n",
      "Epoch 8/20\n",
      "258/258 - 45s - loss: 0.1144 - accuracy: 0.9611 - val_loss: 1.2881 - val_accuracy: 0.7270 - 45s/epoch - 175ms/step\n",
      "Epoch 9/20\n",
      "258/258 - 45s - loss: 0.0999 - accuracy: 0.9661 - val_loss: 1.2954 - val_accuracy: 0.7408 - 45s/epoch - 176ms/step\n",
      "Epoch 10/20\n",
      "258/258 - 45s - loss: 0.0886 - accuracy: 0.9699 - val_loss: 1.2909 - val_accuracy: 0.7369 - 45s/epoch - 174ms/step\n",
      "Epoch 11/20\n",
      "258/258 - 45s - loss: 0.0726 - accuracy: 0.9759 - val_loss: 1.3366 - val_accuracy: 0.7416 - 45s/epoch - 176ms/step\n",
      "Epoch 12/20\n",
      "258/258 - 45s - loss: 0.0642 - accuracy: 0.9784 - val_loss: 1.5432 - val_accuracy: 0.7246 - 45s/epoch - 174ms/step\n",
      "Epoch 13/20\n",
      "258/258 - 45s - loss: 0.0532 - accuracy: 0.9824 - val_loss: 1.5763 - val_accuracy: 0.7363 - 45s/epoch - 174ms/step\n",
      "Epoch 14/20\n",
      "258/258 - 45s - loss: 0.0541 - accuracy: 0.9821 - val_loss: 1.5510 - val_accuracy: 0.7293 - 45s/epoch - 175ms/step\n",
      "Epoch 15/20\n",
      "258/258 - 45s - loss: 0.0490 - accuracy: 0.9842 - val_loss: 1.8576 - val_accuracy: 0.7255 - 45s/epoch - 174ms/step\n",
      "Epoch 16/20\n",
      "258/258 - 45s - loss: 0.0439 - accuracy: 0.9862 - val_loss: 1.7155 - val_accuracy: 0.7308 - 45s/epoch - 174ms/step\n",
      "Epoch 17/20\n",
      "258/258 - 45s - loss: 0.0356 - accuracy: 0.9881 - val_loss: 1.8623 - val_accuracy: 0.7362 - 45s/epoch - 174ms/step\n",
      "Epoch 18/20\n",
      "258/258 - 45s - loss: 0.0406 - accuracy: 0.9875 - val_loss: 1.8473 - val_accuracy: 0.7290 - 45s/epoch - 173ms/step\n",
      "Epoch 19/20\n",
      "258/258 - 45s - loss: 0.0382 - accuracy: 0.9877 - val_loss: 1.8536 - val_accuracy: 0.7296 - 45s/epoch - 176ms/step\n",
      "Epoch 20/20\n",
      "258/258 - 44s - loss: 0.0331 - accuracy: 0.9894 - val_loss: 1.8624 - val_accuracy: 0.7324 - 44s/epoch - 172ms/step\n"
     ]
    },
    {
     "data": {
      "text/plain": [
       "<keras.callbacks.History at 0x1940b317310>"
      ]
     },
     "execution_count": 75,
     "metadata": {},
     "output_type": "execute_result"
    }
   ],
   "source": [
    "model.fit(X_train, y_train, validation_data=(X_test,y_test), epochs=20, batch_size=128, verbose=2)"
   ]
  },
  {
   "cell_type": "code",
   "execution_count": 76,
   "metadata": {
    "execution": {
     "iopub.execute_input": "2021-12-11T12:00:09.033485Z",
     "iopub.status.busy": "2021-12-11T12:00:09.033198Z",
     "iopub.status.idle": "2021-12-11T12:00:09.782482Z",
     "shell.execute_reply": "2021-12-11T12:00:09.781737Z",
     "shell.execute_reply.started": "2021-12-11T12:00:09.033447Z"
    }
   },
   "outputs": [
    {
     "name": "stdout",
     "output_type": "stream",
     "text": [
      "Evaluate Model Performance on Test set\n",
      "258/258 [==============================] - 3s 12ms/step - loss: 1.8624 - accuracy: 0.7324\n",
      "{'loss': 1.86237370967865, 'accuracy': 0.7323858141899109}\n"
     ]
    }
   ],
   "source": [
    "print(\"Evaluate Model Performance on Test set\")\n",
    "result = model.evaluate(X_test,y_test)\n",
    "print(dict(zip(model.metrics_names, result)))"
   ]
  },
  {
   "cell_type": "markdown",
   "metadata": {},
   "source": [
    "# 3- CNN-LSTM Model"
   ]
  },
  {
   "cell_type": "code",
   "execution_count": 80,
   "metadata": {
    "execution": {
     "iopub.execute_input": "2021-12-11T12:00:09.784023Z",
     "iopub.status.busy": "2021-12-11T12:00:09.783795Z",
     "iopub.status.idle": "2021-12-11T12:00:10.257747Z",
     "shell.execute_reply": "2021-12-11T12:00:10.257078Z",
     "shell.execute_reply.started": "2021-12-11T12:00:09.783993Z"
    }
   },
   "outputs": [],
   "source": [
    "model = Sequential()\n",
    "model.add(Embedding(40000, 32, input_length=100))\n",
    "model.add(Conv1D(256, 3, activation='relu', padding='same'))\n",
    "model.add(MaxPooling1D(2))\n",
    "model.add(Dropout(0.2))\n",
    "model.add(Conv1D(128, 3, activation='relu', padding='same'))\n",
    "model.add(MaxPooling1D(2))\n",
    "model.add(Dropout(0.2))\n",
    "model.add(LSTM(64, return_sequences=True))  # Keep sequences for subsequent LSTM layer\n",
    "model.add(LSTM(32))\n",
    "model.add(Dense(250, activation='relu'))\n",
    "model.add(Dropout(0.2))\n",
    "model.add(Dense(5, activation='softmax'))  # Multi-class classification with softmax\n",
    "model.compile(loss='sparse_categorical_crossentropy', optimizer='adam', metrics=['accuracy'])\n"
   ]
  },
  {
   "cell_type": "code",
   "execution_count": 81,
   "metadata": {
    "execution": {
     "iopub.execute_input": "2021-12-11T12:00:10.25925Z",
     "iopub.status.busy": "2021-12-11T12:00:10.258996Z",
     "iopub.status.idle": "2021-12-11T12:00:10.272107Z",
     "shell.execute_reply": "2021-12-11T12:00:10.271351Z",
     "shell.execute_reply.started": "2021-12-11T12:00:10.259217Z"
    }
   },
   "outputs": [
    {
     "name": "stdout",
     "output_type": "stream",
     "text": [
      "Model: \"sequential_5\"\n",
      "_________________________________________________________________\n",
      " Layer (type)                Output Shape              Param #   \n",
      "=================================================================\n",
      " embedding_7 (Embedding)     (None, 100, 32)           1280000   \n",
      "                                                                 \n",
      " conv1d_12 (Conv1D)          (None, 100, 256)          24832     \n",
      "                                                                 \n",
      " max_pooling1d_12 (MaxPoolin  (None, 50, 256)          0         \n",
      " g1D)                                                            \n",
      "                                                                 \n",
      " dropout_17 (Dropout)        (None, 50, 256)           0         \n",
      "                                                                 \n",
      " conv1d_13 (Conv1D)          (None, 50, 128)           98432     \n",
      "                                                                 \n",
      " max_pooling1d_13 (MaxPoolin  (None, 25, 128)          0         \n",
      " g1D)                                                            \n",
      "                                                                 \n",
      " dropout_18 (Dropout)        (None, 25, 128)           0         \n",
      "                                                                 \n",
      " lstm_6 (LSTM)               (None, 25, 64)            49408     \n",
      "                                                                 \n",
      " lstm_7 (LSTM)               (None, 32)                12416     \n",
      "                                                                 \n",
      " dense_12 (Dense)            (None, 250)               8250      \n",
      "                                                                 \n",
      " dropout_19 (Dropout)        (None, 250)               0         \n",
      "                                                                 \n",
      " dense_13 (Dense)            (None, 5)                 1255      \n",
      "                                                                 \n",
      "=================================================================\n",
      "Total params: 1,474,593\n",
      "Trainable params: 1,474,593\n",
      "Non-trainable params: 0\n",
      "_________________________________________________________________\n"
     ]
    }
   ],
   "source": [
    "model.summary()"
   ]
  },
  {
   "cell_type": "code",
   "execution_count": 82,
   "metadata": {
    "execution": {
     "iopub.execute_input": "2021-12-11T12:00:10.273899Z",
     "iopub.status.busy": "2021-12-11T12:00:10.273624Z",
     "iopub.status.idle": "2021-12-11T12:01:13.208587Z",
     "shell.execute_reply": "2021-12-11T12:01:13.207897Z",
     "shell.execute_reply.started": "2021-12-11T12:00:10.27386Z"
    }
   },
   "outputs": [
    {
     "name": "stdout",
     "output_type": "stream",
     "text": [
      "Epoch 1/20\n",
      "258/258 - 72s - loss: 1.3818 - accuracy: 0.3909 - val_loss: 1.1812 - val_accuracy: 0.5159 - 72s/epoch - 281ms/step\n",
      "Epoch 2/20\n",
      "258/258 - 61s - loss: 0.9391 - accuracy: 0.6400 - val_loss: 0.8345 - val_accuracy: 0.7017 - 61s/epoch - 236ms/step\n",
      "Epoch 3/20\n",
      "258/258 - 64s - loss: 0.6577 - accuracy: 0.7639 - val_loss: 0.7399 - val_accuracy: 0.7438 - 64s/epoch - 246ms/step\n",
      "Epoch 4/20\n",
      "258/258 - 63s - loss: 0.5015 - accuracy: 0.8282 - val_loss: 0.7378 - val_accuracy: 0.7557 - 63s/epoch - 244ms/step\n",
      "Epoch 5/20\n",
      "258/258 - 65s - loss: 0.3895 - accuracy: 0.8742 - val_loss: 0.7620 - val_accuracy: 0.7477 - 65s/epoch - 253ms/step\n",
      "Epoch 6/20\n",
      "258/258 - 63s - loss: 0.3080 - accuracy: 0.9028 - val_loss: 0.7951 - val_accuracy: 0.7487 - 63s/epoch - 244ms/step\n",
      "Epoch 7/20\n",
      "258/258 - 65s - loss: 0.2595 - accuracy: 0.9180 - val_loss: 0.9062 - val_accuracy: 0.7372 - 65s/epoch - 254ms/step\n",
      "Epoch 8/20\n",
      "258/258 - 64s - loss: 0.2172 - accuracy: 0.9320 - val_loss: 0.9054 - val_accuracy: 0.7428 - 64s/epoch - 250ms/step\n",
      "Epoch 9/20\n",
      "258/258 - 63s - loss: 0.1807 - accuracy: 0.9438 - val_loss: 1.0133 - val_accuracy: 0.7278 - 63s/epoch - 243ms/step\n",
      "Epoch 10/20\n",
      "258/258 - 64s - loss: 0.1660 - accuracy: 0.9484 - val_loss: 1.0089 - val_accuracy: 0.7348 - 64s/epoch - 249ms/step\n",
      "Epoch 11/20\n",
      "258/258 - 64s - loss: 0.1453 - accuracy: 0.9548 - val_loss: 1.0869 - val_accuracy: 0.7257 - 64s/epoch - 248ms/step\n",
      "Epoch 12/20\n",
      "258/258 - 62s - loss: 0.1291 - accuracy: 0.9595 - val_loss: 1.0212 - val_accuracy: 0.7286 - 62s/epoch - 239ms/step\n",
      "Epoch 13/20\n",
      "258/258 - 61s - loss: 0.1161 - accuracy: 0.9660 - val_loss: 1.1038 - val_accuracy: 0.7236 - 61s/epoch - 237ms/step\n",
      "Epoch 14/20\n",
      "258/258 - 61s - loss: 0.1062 - accuracy: 0.9689 - val_loss: 1.2156 - val_accuracy: 0.7173 - 61s/epoch - 237ms/step\n",
      "Epoch 15/20\n",
      "258/258 - 63s - loss: 0.1055 - accuracy: 0.9684 - val_loss: 1.2177 - val_accuracy: 0.7262 - 63s/epoch - 246ms/step\n",
      "Epoch 16/20\n",
      "258/258 - 73s - loss: 0.0912 - accuracy: 0.9723 - val_loss: 1.1755 - val_accuracy: 0.7272 - 73s/epoch - 284ms/step\n",
      "Epoch 17/20\n",
      "258/258 - 65s - loss: 0.0900 - accuracy: 0.9735 - val_loss: 1.2240 - val_accuracy: 0.7207 - 65s/epoch - 250ms/step\n",
      "Epoch 18/20\n",
      "258/258 - 62s - loss: 0.0788 - accuracy: 0.9774 - val_loss: 1.2505 - val_accuracy: 0.7142 - 62s/epoch - 240ms/step\n",
      "Epoch 19/20\n",
      "258/258 - 62s - loss: 0.0772 - accuracy: 0.9783 - val_loss: 1.1281 - val_accuracy: 0.7204 - 62s/epoch - 242ms/step\n",
      "Epoch 20/20\n",
      "258/258 - 67s - loss: 0.0673 - accuracy: 0.9806 - val_loss: 1.4211 - val_accuracy: 0.7112 - 67s/epoch - 259ms/step\n"
     ]
    },
    {
     "data": {
      "text/plain": [
       "<keras.callbacks.History at 0x1940afb9430>"
      ]
     },
     "execution_count": 82,
     "metadata": {},
     "output_type": "execute_result"
    }
   ],
   "source": [
    "model.fit(X_train, y_train, validation_data=(X_test,y_test), epochs=20, batch_size=128, verbose=2)"
   ]
  },
  {
   "cell_type": "code",
   "execution_count": 84,
   "metadata": {
    "execution": {
     "iopub.execute_input": "2021-12-11T12:01:13.214395Z",
     "iopub.status.busy": "2021-12-11T12:01:13.212388Z",
     "iopub.status.idle": "2021-12-11T12:01:14.529929Z",
     "shell.execute_reply": "2021-12-11T12:01:14.529209Z",
     "shell.execute_reply.started": "2021-12-11T12:01:13.214356Z"
    }
   },
   "outputs": [
    {
     "name": "stdout",
     "output_type": "stream",
     "text": [
      "Evaluate Model Performance on Test set\n",
      "258/258 [==============================] - 6s 25ms/step - loss: 1.4211 - accuracy: 0.7112\n",
      "{'loss': 1.4211093187332153, 'accuracy': 0.7112487554550171}\n"
     ]
    }
   ],
   "source": [
    "print(\"Evaluate Model Performance on Test set\")\n",
    "result = model.evaluate(X_test,y_test)\n",
    "print(dict(zip(model.metrics_names, result)))"
   ]
  },
  {
   "cell_type": "markdown",
   "metadata": {},
   "source": [
    "# 4- LSTM-CNN Model"
   ]
  },
  {
   "cell_type": "code",
   "execution_count": 111,
   "metadata": {},
   "outputs": [],
   "source": [
    "from tensorflow.keras.models import Sequential\n",
    "from tensorflow.keras.layers import Embedding, LSTM, Conv1D, MaxPooling1D, Flatten, Dense\n",
    "\n",
    "model = Sequential()\n",
    "model.add(Embedding(input_dim=40000, output_dim=64, input_length=100))  # Embedding layer\n",
    "model.add(LSTM(units=64, return_sequences=True))  # LSTM layer with return sequences\n",
    "model.add(LSTM(units=32, return_sequences=True))  # LSTM layer with return sequences\n",
    "model.add(Conv1D(filters=64, kernel_size=3, activation='relu'))  # Convolutional layer\n",
    "model.add(MaxPooling1D(pool_size=2))  # MaxPooling layer\n",
    "model.add(Conv1D(filters=32, kernel_size=3, activation='relu'))  # Convolutional layer\n",
    "model.add(MaxPooling1D(pool_size=2))  # MaxPooling layer\n",
    "model.add(Flatten())  # Flatten layer\n",
    "model.add(Dense(units=5, activation='softmax'))  # Output layer for multi-class classification\n",
    "\n",
    "model.compile(loss='sparse_categorical_crossentropy', optimizer='adam', metrics=['accuracy'])\n"
   ]
  },
  {
   "cell_type": "code",
   "execution_count": 112,
   "metadata": {},
   "outputs": [
    {
     "name": "stdout",
     "output_type": "stream",
     "text": [
      "Model: \"sequential_16\"\n",
      "_________________________________________________________________\n",
      " Layer (type)                Output Shape              Param #   \n",
      "=================================================================\n",
      " embedding_18 (Embedding)    (None, 100, 64)           2560000   \n",
      "                                                                 \n",
      " lstm_23 (LSTM)              (None, 100, 64)           33024     \n",
      "                                                                 \n",
      " lstm_24 (LSTM)              (None, 100, 32)           12416     \n",
      "                                                                 \n",
      " conv1d_25 (Conv1D)          (None, 98, 64)            6208      \n",
      "                                                                 \n",
      " max_pooling1d_24 (MaxPoolin  (None, 49, 64)           0         \n",
      " g1D)                                                            \n",
      "                                                                 \n",
      " conv1d_26 (Conv1D)          (None, 47, 32)            6176      \n",
      "                                                                 \n",
      " max_pooling1d_25 (MaxPoolin  (None, 23, 32)           0         \n",
      " g1D)                                                            \n",
      "                                                                 \n",
      " flatten_5 (Flatten)         (None, 736)               0         \n",
      "                                                                 \n",
      " dense_28 (Dense)            (None, 5)                 3685      \n",
      "                                                                 \n",
      "=================================================================\n",
      "Total params: 2,621,509\n",
      "Trainable params: 2,621,509\n",
      "Non-trainable params: 0\n",
      "_________________________________________________________________\n"
     ]
    }
   ],
   "source": [
    "model.summary()\n"
   ]
  },
  {
   "cell_type": "code",
   "execution_count": 113,
   "metadata": {},
   "outputs": [
    {
     "name": "stdout",
     "output_type": "stream",
     "text": [
      "Epoch 1/20\n",
      "258/258 - 95s - loss: 1.2985 - accuracy: 0.4337 - val_loss: 0.9534 - val_accuracy: 0.6293 - 95s/epoch - 370ms/step\n",
      "Epoch 2/20\n",
      "258/258 - 78s - loss: 0.7271 - accuracy: 0.7283 - val_loss: 0.7971 - val_accuracy: 0.7051 - 78s/epoch - 302ms/step\n",
      "Epoch 3/20\n",
      "258/258 - 90s - loss: 0.4846 - accuracy: 0.8344 - val_loss: 0.8022 - val_accuracy: 0.7211 - 90s/epoch - 351ms/step\n",
      "Epoch 4/20\n",
      "258/258 - 89s - loss: 0.3511 - accuracy: 0.8853 - val_loss: 0.8291 - val_accuracy: 0.7286 - 89s/epoch - 346ms/step\n",
      "Epoch 5/20\n",
      "258/258 - 92s - loss: 0.2608 - accuracy: 0.9146 - val_loss: 1.0515 - val_accuracy: 0.7217 - 92s/epoch - 355ms/step\n",
      "Epoch 6/20\n",
      "258/258 - 93s - loss: 0.1987 - accuracy: 0.9346 - val_loss: 1.0656 - val_accuracy: 0.7297 - 93s/epoch - 359ms/step\n",
      "Epoch 7/20\n",
      "258/258 - 82s - loss: 0.1458 - accuracy: 0.9523 - val_loss: 1.2454 - val_accuracy: 0.7190 - 82s/epoch - 317ms/step\n",
      "Epoch 8/20\n",
      "258/258 - 68s - loss: 0.1111 - accuracy: 0.9642 - val_loss: 1.4188 - val_accuracy: 0.7077 - 68s/epoch - 262ms/step\n",
      "Epoch 9/20\n",
      "258/258 - 74s - loss: 0.0867 - accuracy: 0.9710 - val_loss: 1.4501 - val_accuracy: 0.7029 - 74s/epoch - 285ms/step\n",
      "Epoch 10/20\n",
      "258/258 - 75s - loss: 0.0760 - accuracy: 0.9749 - val_loss: 1.6139 - val_accuracy: 0.6990 - 75s/epoch - 290ms/step\n",
      "Epoch 11/20\n",
      "258/258 - 74s - loss: 0.0608 - accuracy: 0.9798 - val_loss: 1.7067 - val_accuracy: 0.7176 - 74s/epoch - 288ms/step\n",
      "Epoch 12/20\n",
      "258/258 - 73s - loss: 0.0471 - accuracy: 0.9848 - val_loss: 1.9579 - val_accuracy: 0.7167 - 73s/epoch - 283ms/step\n",
      "Epoch 13/20\n",
      "258/258 - 73s - loss: 0.0404 - accuracy: 0.9868 - val_loss: 1.8852 - val_accuracy: 0.7178 - 73s/epoch - 284ms/step\n",
      "Epoch 14/20\n",
      "258/258 - 73s - loss: 0.0407 - accuracy: 0.9873 - val_loss: 1.9193 - val_accuracy: 0.7182 - 73s/epoch - 284ms/step\n",
      "Epoch 15/20\n",
      "258/258 - 74s - loss: 0.0296 - accuracy: 0.9902 - val_loss: 2.2454 - val_accuracy: 0.7274 - 74s/epoch - 285ms/step\n",
      "Epoch 16/20\n",
      "258/258 - 73s - loss: 0.0264 - accuracy: 0.9913 - val_loss: 2.3593 - val_accuracy: 0.7176 - 73s/epoch - 284ms/step\n",
      "Epoch 17/20\n",
      "258/258 - 73s - loss: 0.0311 - accuracy: 0.9903 - val_loss: 2.2452 - val_accuracy: 0.7126 - 73s/epoch - 284ms/step\n",
      "Epoch 18/20\n",
      "258/258 - 75s - loss: 0.0234 - accuracy: 0.9933 - val_loss: 2.2936 - val_accuracy: 0.7112 - 75s/epoch - 292ms/step\n",
      "Epoch 19/20\n",
      "258/258 - 73s - loss: 0.0251 - accuracy: 0.9927 - val_loss: 2.2309 - val_accuracy: 0.7222 - 73s/epoch - 283ms/step\n",
      "Epoch 20/20\n",
      "258/258 - 79s - loss: 0.0303 - accuracy: 0.9910 - val_loss: 2.1302 - val_accuracy: 0.7173 - 79s/epoch - 306ms/step\n"
     ]
    },
    {
     "data": {
      "text/plain": [
       "<keras.callbacks.History at 0x19426919340>"
      ]
     },
     "execution_count": 113,
     "metadata": {},
     "output_type": "execute_result"
    }
   ],
   "source": [
    "model.fit(X_train, y_train, validation_data=(X_test,y_test), epochs=20, batch_size=128, verbose=2)"
   ]
  },
  {
   "cell_type": "code",
   "execution_count": 114,
   "metadata": {},
   "outputs": [
    {
     "name": "stdout",
     "output_type": "stream",
     "text": [
      "Evaluate Model Performance on Test set\n",
      "258/258 [==============================] - 10s 41ms/step - loss: 2.1302 - accuracy: 0.7173\n",
      "{'loss': 2.1301684379577637, 'accuracy': 0.7173226475715637}\n"
     ]
    }
   ],
   "source": [
    "print(\"Evaluate Model Performance on Test set\")\n",
    "result = model.evaluate(X_test,y_test)\n",
    "print(dict(zip(model.metrics_names, result)))"
   ]
  },
  {
   "cell_type": "code",
   "execution_count": 115,
   "metadata": {},
   "outputs": [
    {
     "name": "stdout",
     "output_type": "stream",
     "text": [
      "1029/1029 [==============================] - 34s 33ms/step\n",
      "258/258 [==============================] - 9s 33ms/step\n"
     ]
    },
    {
     "data": {
      "image/png": "[encoded data removed]",
      "text/plain": [
       "<Figure size 576x432 with 2 Axes>"
      ]
     },
     "metadata": {
      "needs_background": "light"
     },
     "output_type": "display_data"
    },
    {
     "data": {
      "image/png": "[encoded data removed]",
      "text/plain": [
       "<Figure size 576x432 with 2 Axes>"
      ]
     },
     "metadata": {
      "needs_background": "light"
     },
     "output_type": "display_data"
    },
    {
     "ename": "NameError",
     "evalue": "name 'history' is not defined",
     "output_type": "error",
     "traceback": [
      "\u001b[1;31m---------------------------------------------------------------------------\u001b[0m",
      "\u001b[1;31mNameError\u001b[0m                                 Traceback (most recent call last)",
      "Input \u001b[1;32mIn [115]\u001b[0m, in \u001b[0;36m<cell line: 41>\u001b[1;34m()\u001b[0m\n\u001b[0;32m     38\u001b[0m plt\u001b[38;5;241m.\u001b[39mshow()\n\u001b[0;32m     40\u001b[0m \u001b[38;5;66;03m# Plot training and validation loss over epochs\u001b[39;00m\n\u001b[1;32m---> 41\u001b[0m plt\u001b[38;5;241m.\u001b[39mplot(\u001b[43mhistory\u001b[49m\u001b[38;5;241m.\u001b[39mhistory[\u001b[38;5;124m'\u001b[39m\u001b[38;5;124mloss\u001b[39m\u001b[38;5;124m'\u001b[39m], label\u001b[38;5;241m=\u001b[39m\u001b[38;5;124m'\u001b[39m\u001b[38;5;124mTrain Loss\u001b[39m\u001b[38;5;124m'\u001b[39m)\n\u001b[0;32m     42\u001b[0m plt\u001b[38;5;241m.\u001b[39mplot(history\u001b[38;5;241m.\u001b[39mhistory[\u001b[38;5;124m'\u001b[39m\u001b[38;5;124mval_loss\u001b[39m\u001b[38;5;124m'\u001b[39m], label\u001b[38;5;241m=\u001b[39m\u001b[38;5;124m'\u001b[39m\u001b[38;5;124mValidation Loss\u001b[39m\u001b[38;5;124m'\u001b[39m)\n\u001b[0;32m     43\u001b[0m plt\u001b[38;5;241m.\u001b[39mtitle(\u001b[38;5;124m'\u001b[39m\u001b[38;5;124mTraining and Validation Loss\u001b[39m\u001b[38;5;124m'\u001b[39m)\n",
      "\u001b[1;31mNameError\u001b[0m: name 'history' is not defined"
     ]
    }
   ],
   "source": [
    "import matplotlib.pyplot as plt\n",
    "from sklearn.metrics import confusion_matrix\n",
    "\n",
    "# Assuming you have already trained the model and have access to y_pred_train and y_pred_test\n",
    "\n",
    "# Generate predictions for the test dataset\n",
    "y_pred_train = model.predict(X_train)\n",
    "y_pred_test = model.predict(X_test)\n",
    "\n",
    "# Get the class with the highest probability for each sample\n",
    "y_pred_train_classes = np.argmax(y_pred_train, axis=1)\n",
    "y_pred_test_classes = np.argmax(y_pred_test, axis=1)\n",
    "\n",
    "# Get the confusion matrix\n",
    "cf_matrix_train = confusion_matrix(y_train, y_pred_train_classes)\n",
    "cf_matrix_test = confusion_matrix(y_test, y_pred_test_classes)\n",
    "\n",
    "# Plot confusion matrix for training data\n",
    "plt.figure(figsize=(8, 6))\n",
    "plt.imshow(cf_matrix_train, interpolation='nearest', cmap=plt.cm.Blues)\n",
    "plt.title('Confusion Matrix - Training Data')\n",
    "plt.colorbar()\n",
    "plt.xlabel('Predicted Label')\n",
    "plt.ylabel('True Label')\n",
    "plt.xticks(ticks=range(5))\n",
    "plt.yticks(ticks=range(5))\n",
    "plt.show()\n",
    "\n",
    "# Plot confusion matrix for test data\n",
    "plt.figure(figsize=(8, 6))\n",
    "plt.imshow(cf_matrix_test, interpolation='nearest', cmap=plt.cm.Blues)\n",
    "plt.title('Confusion Matrix - Test Data')\n",
    "plt.colorbar()\n",
    "plt.xlabel('Predicted Label')\n",
    "plt.ylabel('True Label')\n",
    "plt.xticks(ticks=range(5))\n",
    "plt.yticks(ticks=range(5))\n",
    "plt.show()\n",
    "\n",
    "# Plot training and validation loss over epochs\n",
    "plt.plot(history.history['loss'], label='Train Loss')\n",
    "plt.plot(history.history['val_loss'], label='Validation Loss')\n",
    "plt.title('Training and Validation Loss')\n",
    "plt.xlabel('Epoch')\n",
    "plt.ylabel('Loss')\n",
    "plt.legend()\n",
    "plt.show()\n"
   ]
  },
  {
   "cell_type": "markdown",
   "metadata": {},
   "source": [
    "# Sources\n",
    "\n",
    "- http://konukoii.com/blog/2018/02/19/twitter-sentiment-analysis-using-combined-lstm-cnn-models/\n",
    "- https://arxiv.org/pdf/1408.5882.pdf\n",
    "- https://github.com/pytorch/ignite/blob/master/examples/notebooks/TextCNN.ipynb\n",
    "- https://www.kaggle.com/raghav2002sharma/sentiment-classifier-with-cnn-bi-lstm\n",
    "- https://www.kaggle.com/ashrafkhan94/imdb-review-comparison-using-cnn-lstm-bert\n",
    "- https://www.kaggle.com/parth05rohilla/bi-lstm-and-cnn-model-top-10/notebook\n",
    "- https://www.kaggle.com/c/movie-review-sentiment-analysis-kernels-only/code?competitionId=10025&searchQuery=cnn\n",
    "- https://colab.research.google.com/github/d2l-ai/d2l-en-colab/blob/master/chapter_natural-language-processing-applications/sentiment-analysis-cnn.ipynb\n",
    "- https://www.kaggle.com/nafisur/keras-models-lstm-cnn-gru-bidirectional-glove\n",
    "- https://www.kaggle.com/derrelldsouza/imdb-sentiment-analysis-eda-ml-lstm-bert#5.-Predictive-Modelling-using-Deep-Learning\n",
    "- https://www.kaggle.com/clementbrehard/imdb-conv1d-lstm"
   ]
  }
 ],
 "metadata": {
  "kaggle": {
   "accelerator": "gpu",
   "dataSources": [
    {
     "datasetId": 134715,
     "sourceId": 320111,
     "sourceType": "datasetVersion"
    },
    {
     "datasetId": 1786477,
     "sourceId": 2914524,
     "sourceType": "datasetVersion"
    }
   ],
   "dockerImageVersionId": 30153,
   "isGpuEnabled": true,
   "isInternetEnabled": true,
   "language": "python",
   "sourceType": "notebook"
  },
  "kernelspec": {
   "display_name": "Python 3 (ipykernel)",
   "language": "python",
   "name": "python3"
  },
  "language_info": {
   "codemirror_mode": {
    "name": "ipython",
    "version": 3
   },
   "file_extension": ".py",
   "mimetype": "text/x-python",
   "name": "python",
   "nbconvert_exporter": "python",
   "pygments_lexer": "ipython3",
   "version": "3.9.5"
  }
 },
 "nbformat": 4,
 "nbformat_minor": 4
}
